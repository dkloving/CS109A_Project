{
 "cells": [
  {
   "cell_type": "code",
   "execution_count": 1,
   "metadata": {
    "collapsed": true
   },
   "outputs": [],
   "source": [
    "import pandas as pd\n",
    "import numpy as np\n",
    "import matplotlib.pyplot as plt\n",
    "import datetime\n",
    "%matplotlib inline\n",
    "import seaborn as sns\n",
    "sns.set_context('poster')"
   ]
  },
  {
   "cell_type": "markdown",
   "metadata": {},
   "source": [
    "## Moving Average Models With MSA, Years and Features"
   ]
  },
  {
   "cell_type": "markdown",
   "metadata": {},
   "source": [
    "### Import, Split, and Standardize Data"
   ]
  },
  {
   "cell_type": "code",
   "execution_count": 2,
   "metadata": {
    "collapsed": true
   },
   "outputs": [],
   "source": [
    "start = datetime.datetime.time(datetime.datetime.now())"
   ]
  },
  {
   "cell_type": "code",
   "execution_count": 3,
   "metadata": {
    "collapsed": true
   },
   "outputs": [],
   "source": [
    "df = pd.read_pickle('../data/merged/all_data_2006_to_2016_v2.pkl')"
   ]
  },
  {
   "cell_type": "code",
   "execution_count": 4,
   "metadata": {},
   "outputs": [
    {
     "name": "stdout",
     "output_type": "stream",
     "text": [
      "<class 'pandas.core.frame.DataFrame'>\n",
      "RangeIndex: 928 entries, 0 to 927\n",
      "Data columns (total 13 columns):\n",
      "MSA_orig                                                                       928 non-null object\n",
      "MSA                                                                            928 non-null object\n",
      "MSA_abbr                                                                       928 non-null object\n",
      "year                                                                           928 non-null int64\n",
      "now_married_except_separated                                                   928 non-null float64\n",
      "less_than_high_school_diploma                                                  928 non-null float64\n",
      "unmarried_portion_of_women_15_to_50_years_who_had_a_birth_in_past_12_months    928 non-null float64\n",
      "households_with_food_stamp_snap_benefits                                       928 non-null float64\n",
      "percentage_married_couple_family                                               928 non-null float64\n",
      "percentage_female_householder_no_husband_present_family                        928 non-null float64\n",
      "poverty_all_people                                                             928 non-null float64\n",
      "house_median_value_(dollars)                                                   928 non-null int64\n",
      "murder_per_100_k                                                               928 non-null float64\n",
      "dtypes: float64(8), int64(2), object(3)\n",
      "memory usage: 94.3+ KB\n"
     ]
    }
   ],
   "source": [
    "df.info()"
   ]
  },
  {
   "cell_type": "code",
   "execution_count": 5,
   "metadata": {
    "collapsed": true
   },
   "outputs": [],
   "source": [
    "# drop extra MSA names\n",
    "df = df.drop(['MSA_orig', 'MSA'], axis=1)"
   ]
  },
  {
   "cell_type": "code",
   "execution_count": 6,
   "metadata": {
    "collapsed": true
   },
   "outputs": [],
   "source": [
    "# remove outliers with atypically high murder rates\n",
    "df = df[df.MSA_abbr != 'NEW_ORLEANS_LA']\n",
    "df = df[(df.MSA_abbr != 'MEMPHIS_TN') | (df.year != 2016)]\n",
    "df = df[(df.MSA_abbr != 'BATON_ROUGE_LA') | (df.year != 2007)]"
   ]
  },
  {
   "cell_type": "code",
   "execution_count": 7,
   "metadata": {
    "collapsed": true
   },
   "outputs": [],
   "source": [
    "df = df.sort_values(['MSA_abbr', 'year'], ascending=[True, True])"
   ]
  },
  {
   "cell_type": "code",
   "execution_count": 8,
   "metadata": {
    "collapsed": true
   },
   "outputs": [],
   "source": [
    "df_msa = df['MSA_abbr']"
   ]
  },
  {
   "cell_type": "code",
   "execution_count": 9,
   "metadata": {
    "collapsed": true
   },
   "outputs": [],
   "source": [
    "df = pd.get_dummies(df, columns=['MSA_abbr'], drop_first=False)"
   ]
  },
  {
   "cell_type": "code",
   "execution_count": 10,
   "metadata": {
    "collapsed": true
   },
   "outputs": [],
   "source": [
    "df['MSA_abbr'] = df_msa.values"
   ]
  },
  {
   "cell_type": "code",
   "execution_count": 11,
   "metadata": {
    "collapsed": true
   },
   "outputs": [],
   "source": [
    "cols = [df.columns[-1]] + [col for col in df if col != df.columns[-1]]\n",
    "df = df[cols]"
   ]
  },
  {
   "cell_type": "code",
   "execution_count": 12,
   "metadata": {},
   "outputs": [
    {
     "data": {
      "text/html": [
       "<div>\n",
       "<style>\n",
       "    .dataframe thead tr:only-child th {\n",
       "        text-align: right;\n",
       "    }\n",
       "\n",
       "    .dataframe thead th {\n",
       "        text-align: left;\n",
       "    }\n",
       "\n",
       "    .dataframe tbody tr th {\n",
       "        vertical-align: top;\n",
       "    }\n",
       "</style>\n",
       "<table border=\"1\" class=\"dataframe\">\n",
       "  <thead>\n",
       "    <tr style=\"text-align: right;\">\n",
       "      <th></th>\n",
       "      <th>MSA_abbr</th>\n",
       "      <th>year</th>\n",
       "      <th>now_married_except_separated</th>\n",
       "      <th>less_than_high_school_diploma</th>\n",
       "      <th>unmarried_portion_of_women_15_to_50_years_who_had_a_birth_in_past_12_months</th>\n",
       "      <th>households_with_food_stamp_snap_benefits</th>\n",
       "      <th>percentage_married_couple_family</th>\n",
       "      <th>percentage_female_householder_no_husband_present_family</th>\n",
       "      <th>poverty_all_people</th>\n",
       "      <th>house_median_value_(dollars)</th>\n",
       "      <th>...</th>\n",
       "      <th>MSA_abbr_TAMPA_FL</th>\n",
       "      <th>MSA_abbr_TOLEDO_OH</th>\n",
       "      <th>MSA_abbr_TUCSON_AZ</th>\n",
       "      <th>MSA_abbr_TULSA_OK</th>\n",
       "      <th>MSA_abbr_VIRGINIA_BEACH_NC</th>\n",
       "      <th>MSA_abbr_WASHINGTON_DC</th>\n",
       "      <th>MSA_abbr_WICHITA_KS</th>\n",
       "      <th>MSA_abbr_WINSTON_NC</th>\n",
       "      <th>MSA_abbr_WORCESTER_MA</th>\n",
       "      <th>MSA_abbr_YOUNGSTOWN_OH</th>\n",
       "    </tr>\n",
       "  </thead>\n",
       "  <tbody>\n",
       "    <tr>\n",
       "      <th>0</th>\n",
       "      <td>AKRON_OH</td>\n",
       "      <td>2007</td>\n",
       "      <td>50.5</td>\n",
       "      <td>9.9</td>\n",
       "      <td>28.0</td>\n",
       "      <td>8.8</td>\n",
       "      <td>75.7</td>\n",
       "      <td>18.0</td>\n",
       "      <td>13.4</td>\n",
       "      <td>147000</td>\n",
       "      <td>...</td>\n",
       "      <td>0</td>\n",
       "      <td>0</td>\n",
       "      <td>0</td>\n",
       "      <td>0</td>\n",
       "      <td>0</td>\n",
       "      <td>0</td>\n",
       "      <td>0</td>\n",
       "      <td>0</td>\n",
       "      <td>0</td>\n",
       "      <td>0</td>\n",
       "    </tr>\n",
       "    <tr>\n",
       "      <th>1</th>\n",
       "      <td>AKRON_OH</td>\n",
       "      <td>2008</td>\n",
       "      <td>49.3</td>\n",
       "      <td>9.9</td>\n",
       "      <td>35.9</td>\n",
       "      <td>9.5</td>\n",
       "      <td>74.3</td>\n",
       "      <td>19.9</td>\n",
       "      <td>12.1</td>\n",
       "      <td>148300</td>\n",
       "      <td>...</td>\n",
       "      <td>0</td>\n",
       "      <td>0</td>\n",
       "      <td>0</td>\n",
       "      <td>0</td>\n",
       "      <td>0</td>\n",
       "      <td>0</td>\n",
       "      <td>0</td>\n",
       "      <td>0</td>\n",
       "      <td>0</td>\n",
       "      <td>0</td>\n",
       "    </tr>\n",
       "    <tr>\n",
       "      <th>2</th>\n",
       "      <td>AKRON_OH</td>\n",
       "      <td>2009</td>\n",
       "      <td>48.1</td>\n",
       "      <td>10.1</td>\n",
       "      <td>42.4</td>\n",
       "      <td>12.0</td>\n",
       "      <td>73.2</td>\n",
       "      <td>20.7</td>\n",
       "      <td>14.7</td>\n",
       "      <td>142500</td>\n",
       "      <td>...</td>\n",
       "      <td>0</td>\n",
       "      <td>0</td>\n",
       "      <td>0</td>\n",
       "      <td>0</td>\n",
       "      <td>0</td>\n",
       "      <td>0</td>\n",
       "      <td>0</td>\n",
       "      <td>0</td>\n",
       "      <td>0</td>\n",
       "      <td>0</td>\n",
       "    </tr>\n",
       "    <tr>\n",
       "      <th>3</th>\n",
       "      <td>AKRON_OH</td>\n",
       "      <td>2010</td>\n",
       "      <td>47.9</td>\n",
       "      <td>10.7</td>\n",
       "      <td>41.0</td>\n",
       "      <td>12.9</td>\n",
       "      <td>73.7</td>\n",
       "      <td>19.8</td>\n",
       "      <td>15.5</td>\n",
       "      <td>145000</td>\n",
       "      <td>...</td>\n",
       "      <td>0</td>\n",
       "      <td>0</td>\n",
       "      <td>0</td>\n",
       "      <td>0</td>\n",
       "      <td>0</td>\n",
       "      <td>0</td>\n",
       "      <td>0</td>\n",
       "      <td>0</td>\n",
       "      <td>0</td>\n",
       "      <td>0</td>\n",
       "    </tr>\n",
       "    <tr>\n",
       "      <th>4</th>\n",
       "      <td>AKRON_OH</td>\n",
       "      <td>2011</td>\n",
       "      <td>46.8</td>\n",
       "      <td>9.1</td>\n",
       "      <td>38.2</td>\n",
       "      <td>14.5</td>\n",
       "      <td>72.9</td>\n",
       "      <td>21.7</td>\n",
       "      <td>16.6</td>\n",
       "      <td>139800</td>\n",
       "      <td>...</td>\n",
       "      <td>0</td>\n",
       "      <td>0</td>\n",
       "      <td>0</td>\n",
       "      <td>0</td>\n",
       "      <td>0</td>\n",
       "      <td>0</td>\n",
       "      <td>0</td>\n",
       "      <td>0</td>\n",
       "      <td>0</td>\n",
       "      <td>0</td>\n",
       "    </tr>\n",
       "  </tbody>\n",
       "</table>\n",
       "<p>5 rows × 117 columns</p>\n",
       "</div>"
      ],
      "text/plain": [
       "   MSA_abbr  year  now_married_except_separated  \\\n",
       "0  AKRON_OH  2007                          50.5   \n",
       "1  AKRON_OH  2008                          49.3   \n",
       "2  AKRON_OH  2009                          48.1   \n",
       "3  AKRON_OH  2010                          47.9   \n",
       "4  AKRON_OH  2011                          46.8   \n",
       "\n",
       "   less_than_high_school_diploma  \\\n",
       "0                            9.9   \n",
       "1                            9.9   \n",
       "2                           10.1   \n",
       "3                           10.7   \n",
       "4                            9.1   \n",
       "\n",
       "   unmarried_portion_of_women_15_to_50_years_who_had_a_birth_in_past_12_months  \\\n",
       "0                                               28.0                             \n",
       "1                                               35.9                             \n",
       "2                                               42.4                             \n",
       "3                                               41.0                             \n",
       "4                                               38.2                             \n",
       "\n",
       "   households_with_food_stamp_snap_benefits  percentage_married_couple_family  \\\n",
       "0                                       8.8                              75.7   \n",
       "1                                       9.5                              74.3   \n",
       "2                                      12.0                              73.2   \n",
       "3                                      12.9                              73.7   \n",
       "4                                      14.5                              72.9   \n",
       "\n",
       "   percentage_female_householder_no_husband_present_family  \\\n",
       "0                                               18.0         \n",
       "1                                               19.9         \n",
       "2                                               20.7         \n",
       "3                                               19.8         \n",
       "4                                               21.7         \n",
       "\n",
       "   poverty_all_people  house_median_value_(dollars)           ...            \\\n",
       "0                13.4                        147000           ...             \n",
       "1                12.1                        148300           ...             \n",
       "2                14.7                        142500           ...             \n",
       "3                15.5                        145000           ...             \n",
       "4                16.6                        139800           ...             \n",
       "\n",
       "   MSA_abbr_TAMPA_FL  MSA_abbr_TOLEDO_OH  MSA_abbr_TUCSON_AZ  \\\n",
       "0                  0                   0                   0   \n",
       "1                  0                   0                   0   \n",
       "2                  0                   0                   0   \n",
       "3                  0                   0                   0   \n",
       "4                  0                   0                   0   \n",
       "\n",
       "   MSA_abbr_TULSA_OK  MSA_abbr_VIRGINIA_BEACH_NC  MSA_abbr_WASHINGTON_DC  \\\n",
       "0                  0                           0                       0   \n",
       "1                  0                           0                       0   \n",
       "2                  0                           0                       0   \n",
       "3                  0                           0                       0   \n",
       "4                  0                           0                       0   \n",
       "\n",
       "   MSA_abbr_WICHITA_KS  MSA_abbr_WINSTON_NC  MSA_abbr_WORCESTER_MA  \\\n",
       "0                    0                    0                      0   \n",
       "1                    0                    0                      0   \n",
       "2                    0                    0                      0   \n",
       "3                    0                    0                      0   \n",
       "4                    0                    0                      0   \n",
       "\n",
       "   MSA_abbr_YOUNGSTOWN_OH  \n",
       "0                       0  \n",
       "1                       0  \n",
       "2                       0  \n",
       "3                       0  \n",
       "4                       0  \n",
       "\n",
       "[5 rows x 117 columns]"
      ]
     },
     "execution_count": 12,
     "metadata": {},
     "output_type": "execute_result"
    }
   ],
   "source": [
    "df.head()"
   ]
  },
  {
   "cell_type": "code",
   "execution_count": 13,
   "metadata": {},
   "outputs": [
    {
     "data": {
      "text/plain": [
       "['MSA_abbr',\n",
       " 'year',\n",
       " 'now_married_except_separated',\n",
       " 'less_than_high_school_diploma',\n",
       " 'unmarried_portion_of_women_15_to_50_years_who_had_a_birth_in_past_12_months',\n",
       " 'households_with_food_stamp_snap_benefits',\n",
       " 'percentage_married_couple_family',\n",
       " 'percentage_female_householder_no_husband_present_family',\n",
       " 'poverty_all_people',\n",
       " 'house_median_value_(dollars)',\n",
       " 'murder_per_100_k',\n",
       " 'MSA_abbr_AKRON_OH',\n",
       " 'MSA_abbr_ALBANY_NY',\n",
       " 'MSA_abbr_ALBUQUERQUE_NM',\n",
       " 'MSA_abbr_ALLENTOWN_PA']"
      ]
     },
     "execution_count": 13,
     "metadata": {},
     "output_type": "execute_result"
    }
   ],
   "source": [
    "list(df)[:15]"
   ]
  },
  {
   "cell_type": "code",
   "execution_count": 14,
   "metadata": {},
   "outputs": [
    {
     "name": "stdout",
     "output_type": "stream",
     "text": [
      "Len train: 490\n",
      "Len test: 426\n"
     ]
    }
   ],
   "source": [
    "# train test split / separate labels and features\n",
    "\n",
    "label_col = 'murder_per_100_k'\n",
    "\n",
    "split_yr = 2011\n",
    "\n",
    "df_train_s = df[df['year'] <= split_yr]\n",
    "df_test = df[df['year'] > split_yr]\n",
    "\n",
    "print('Len train: {}'.format(len(df_train_s)))\n",
    "print('Len test: {}'.format(len(df_test)))"
   ]
  },
  {
   "cell_type": "code",
   "execution_count": 15,
   "metadata": {
    "collapsed": true
   },
   "outputs": [],
   "source": [
    "def moving_average(df, ma_yrs):\n",
    "    min_yr = df.year.min()\n",
    "    max_yr = df.year.max()\n",
    "    cols = list(df)\n",
    "    MSAs = df.MSA_abbr.unique()\n",
    "    main_df = []\n",
    "    for yr in range(min_yr, max_yr+1):\n",
    "        window_min_yr = yr - int(ma_yrs/2)\n",
    "        window_max_yr = yr + int(ma_yrs/2)\n",
    "        for MSA in MSAs:\n",
    "            MSA_row = np.array(df[(df.MSA_abbr == MSA) & (df.year == yr)])\n",
    "            if MSA_row.size == 0:\n",
    "                continue\n",
    "            dummies = MSA_row[:, 11:]\n",
    "            MSA_row = np.array(df[(df.MSA_abbr == MSA) & (df.year >= window_min_yr) & (df.year <= window_max_yr)])\n",
    "            MSA_row = MSA_row[:, 2:11]\n",
    "            MSA_row = np.mean(MSA_row, axis=0)\n",
    "            MSA_row = np.append(yr, MSA_row)\n",
    "            MSA_row = np.append(MSA, MSA_row)\n",
    "            MSA_row = np.append(MSA_row, dummies)\n",
    "            main_df.append(MSA_row)\n",
    "    main_df = pd.DataFrame(main_df)\n",
    "    main_df.columns = cols\n",
    "    main_df = main_df.sort_values(['MSA_abbr', 'year'], ascending=[True, True])\n",
    "    return main_df"
   ]
  },
  {
   "cell_type": "code",
   "execution_count": 16,
   "metadata": {
    "collapsed": true
   },
   "outputs": [],
   "source": [
    "df_train_s_ma = moving_average(df_train_s, 5)"
   ]
  },
  {
   "cell_type": "code",
   "execution_count": 17,
   "metadata": {},
   "outputs": [
    {
     "data": {
      "text/html": [
       "<div>\n",
       "<style>\n",
       "    .dataframe thead tr:only-child th {\n",
       "        text-align: right;\n",
       "    }\n",
       "\n",
       "    .dataframe thead th {\n",
       "        text-align: left;\n",
       "    }\n",
       "\n",
       "    .dataframe tbody tr th {\n",
       "        vertical-align: top;\n",
       "    }\n",
       "</style>\n",
       "<table border=\"1\" class=\"dataframe\">\n",
       "  <thead>\n",
       "    <tr style=\"text-align: right;\">\n",
       "      <th></th>\n",
       "      <th>MSA_abbr</th>\n",
       "      <th>year</th>\n",
       "      <th>now_married_except_separated</th>\n",
       "      <th>less_than_high_school_diploma</th>\n",
       "      <th>unmarried_portion_of_women_15_to_50_years_who_had_a_birth_in_past_12_months</th>\n",
       "      <th>households_with_food_stamp_snap_benefits</th>\n",
       "      <th>percentage_married_couple_family</th>\n",
       "      <th>percentage_female_householder_no_husband_present_family</th>\n",
       "      <th>poverty_all_people</th>\n",
       "      <th>house_median_value_(dollars)</th>\n",
       "      <th>...</th>\n",
       "      <th>MSA_abbr_TAMPA_FL</th>\n",
       "      <th>MSA_abbr_TOLEDO_OH</th>\n",
       "      <th>MSA_abbr_TUCSON_AZ</th>\n",
       "      <th>MSA_abbr_TULSA_OK</th>\n",
       "      <th>MSA_abbr_VIRGINIA_BEACH_NC</th>\n",
       "      <th>MSA_abbr_WASHINGTON_DC</th>\n",
       "      <th>MSA_abbr_WICHITA_KS</th>\n",
       "      <th>MSA_abbr_WINSTON_NC</th>\n",
       "      <th>MSA_abbr_WORCESTER_MA</th>\n",
       "      <th>MSA_abbr_YOUNGSTOWN_OH</th>\n",
       "    </tr>\n",
       "  </thead>\n",
       "  <tbody>\n",
       "    <tr>\n",
       "      <th>44</th>\n",
       "      <td>AKRON_OH</td>\n",
       "      <td>2007</td>\n",
       "      <td>49.300</td>\n",
       "      <td>9.966667</td>\n",
       "      <td>35.433333</td>\n",
       "      <td>10.100000</td>\n",
       "      <td>74.400000</td>\n",
       "      <td>19.533333</td>\n",
       "      <td>13.400</td>\n",
       "      <td>145933.333333</td>\n",
       "      <td>...</td>\n",
       "      <td>0</td>\n",
       "      <td>0</td>\n",
       "      <td>0</td>\n",
       "      <td>0</td>\n",
       "      <td>0</td>\n",
       "      <td>0</td>\n",
       "      <td>0</td>\n",
       "      <td>0</td>\n",
       "      <td>0</td>\n",
       "      <td>0</td>\n",
       "    </tr>\n",
       "    <tr>\n",
       "      <th>128</th>\n",
       "      <td>AKRON_OH</td>\n",
       "      <td>2008</td>\n",
       "      <td>48.950</td>\n",
       "      <td>10.150000</td>\n",
       "      <td>36.825000</td>\n",
       "      <td>10.800000</td>\n",
       "      <td>74.225000</td>\n",
       "      <td>19.600000</td>\n",
       "      <td>13.925</td>\n",
       "      <td>145700.000000</td>\n",
       "      <td>...</td>\n",
       "      <td>0</td>\n",
       "      <td>0</td>\n",
       "      <td>0</td>\n",
       "      <td>0</td>\n",
       "      <td>0</td>\n",
       "      <td>0</td>\n",
       "      <td>0</td>\n",
       "      <td>0</td>\n",
       "      <td>0</td>\n",
       "      <td>0</td>\n",
       "    </tr>\n",
       "    <tr>\n",
       "      <th>217</th>\n",
       "      <td>AKRON_OH</td>\n",
       "      <td>2009</td>\n",
       "      <td>48.520</td>\n",
       "      <td>9.940000</td>\n",
       "      <td>37.100000</td>\n",
       "      <td>11.540000</td>\n",
       "      <td>73.960000</td>\n",
       "      <td>20.020000</td>\n",
       "      <td>14.460</td>\n",
       "      <td>144520.000000</td>\n",
       "      <td>...</td>\n",
       "      <td>0</td>\n",
       "      <td>0</td>\n",
       "      <td>0</td>\n",
       "      <td>0</td>\n",
       "      <td>0</td>\n",
       "      <td>0</td>\n",
       "      <td>0</td>\n",
       "      <td>0</td>\n",
       "      <td>0</td>\n",
       "      <td>0</td>\n",
       "    </tr>\n",
       "    <tr>\n",
       "      <th>304</th>\n",
       "      <td>AKRON_OH</td>\n",
       "      <td>2010</td>\n",
       "      <td>48.025</td>\n",
       "      <td>9.950000</td>\n",
       "      <td>39.375000</td>\n",
       "      <td>12.225000</td>\n",
       "      <td>73.525000</td>\n",
       "      <td>20.525000</td>\n",
       "      <td>14.725</td>\n",
       "      <td>143900.000000</td>\n",
       "      <td>...</td>\n",
       "      <td>0</td>\n",
       "      <td>0</td>\n",
       "      <td>0</td>\n",
       "      <td>0</td>\n",
       "      <td>0</td>\n",
       "      <td>0</td>\n",
       "      <td>0</td>\n",
       "      <td>0</td>\n",
       "      <td>0</td>\n",
       "      <td>0</td>\n",
       "    </tr>\n",
       "    <tr>\n",
       "      <th>397</th>\n",
       "      <td>AKRON_OH</td>\n",
       "      <td>2011</td>\n",
       "      <td>47.600</td>\n",
       "      <td>9.966667</td>\n",
       "      <td>40.533333</td>\n",
       "      <td>13.133333</td>\n",
       "      <td>73.266667</td>\n",
       "      <td>20.733333</td>\n",
       "      <td>15.600</td>\n",
       "      <td>142433.333333</td>\n",
       "      <td>...</td>\n",
       "      <td>0</td>\n",
       "      <td>0</td>\n",
       "      <td>0</td>\n",
       "      <td>0</td>\n",
       "      <td>0</td>\n",
       "      <td>0</td>\n",
       "      <td>0</td>\n",
       "      <td>0</td>\n",
       "      <td>0</td>\n",
       "      <td>0</td>\n",
       "    </tr>\n",
       "  </tbody>\n",
       "</table>\n",
       "<p>5 rows × 117 columns</p>\n",
       "</div>"
      ],
      "text/plain": [
       "     MSA_abbr  year  now_married_except_separated  \\\n",
       "44   AKRON_OH  2007                        49.300   \n",
       "128  AKRON_OH  2008                        48.950   \n",
       "217  AKRON_OH  2009                        48.520   \n",
       "304  AKRON_OH  2010                        48.025   \n",
       "397  AKRON_OH  2011                        47.600   \n",
       "\n",
       "     less_than_high_school_diploma  \\\n",
       "44                        9.966667   \n",
       "128                      10.150000   \n",
       "217                       9.940000   \n",
       "304                       9.950000   \n",
       "397                       9.966667   \n",
       "\n",
       "     unmarried_portion_of_women_15_to_50_years_who_had_a_birth_in_past_12_months  \\\n",
       "44                                           35.433333                             \n",
       "128                                          36.825000                             \n",
       "217                                          37.100000                             \n",
       "304                                          39.375000                             \n",
       "397                                          40.533333                             \n",
       "\n",
       "     households_with_food_stamp_snap_benefits  \\\n",
       "44                                  10.100000   \n",
       "128                                 10.800000   \n",
       "217                                 11.540000   \n",
       "304                                 12.225000   \n",
       "397                                 13.133333   \n",
       "\n",
       "     percentage_married_couple_family  \\\n",
       "44                          74.400000   \n",
       "128                         74.225000   \n",
       "217                         73.960000   \n",
       "304                         73.525000   \n",
       "397                         73.266667   \n",
       "\n",
       "     percentage_female_householder_no_husband_present_family  \\\n",
       "44                                           19.533333         \n",
       "128                                          19.600000         \n",
       "217                                          20.020000         \n",
       "304                                          20.525000         \n",
       "397                                          20.733333         \n",
       "\n",
       "     poverty_all_people  house_median_value_(dollars)           ...            \\\n",
       "44               13.400                 145933.333333           ...             \n",
       "128              13.925                 145700.000000           ...             \n",
       "217              14.460                 144520.000000           ...             \n",
       "304              14.725                 143900.000000           ...             \n",
       "397              15.600                 142433.333333           ...             \n",
       "\n",
       "     MSA_abbr_TAMPA_FL  MSA_abbr_TOLEDO_OH  MSA_abbr_TUCSON_AZ  \\\n",
       "44                   0                   0                   0   \n",
       "128                  0                   0                   0   \n",
       "217                  0                   0                   0   \n",
       "304                  0                   0                   0   \n",
       "397                  0                   0                   0   \n",
       "\n",
       "     MSA_abbr_TULSA_OK  MSA_abbr_VIRGINIA_BEACH_NC  MSA_abbr_WASHINGTON_DC  \\\n",
       "44                   0                           0                       0   \n",
       "128                  0                           0                       0   \n",
       "217                  0                           0                       0   \n",
       "304                  0                           0                       0   \n",
       "397                  0                           0                       0   \n",
       "\n",
       "     MSA_abbr_WICHITA_KS  MSA_abbr_WINSTON_NC  MSA_abbr_WORCESTER_MA  \\\n",
       "44                     0                    0                      0   \n",
       "128                    0                    0                      0   \n",
       "217                    0                    0                      0   \n",
       "304                    0                    0                      0   \n",
       "397                    0                    0                      0   \n",
       "\n",
       "     MSA_abbr_YOUNGSTOWN_OH  \n",
       "44                        0  \n",
       "128                       0  \n",
       "217                       0  \n",
       "304                       0  \n",
       "397                       0  \n",
       "\n",
       "[5 rows x 117 columns]"
      ]
     },
     "execution_count": 17,
     "metadata": {},
     "output_type": "execute_result"
    }
   ],
   "source": [
    "df_train_s_ma.head()"
   ]
  },
  {
   "cell_type": "code",
   "execution_count": 18,
   "metadata": {},
   "outputs": [
    {
     "name": "stdout",
     "output_type": "stream",
     "text": [
      "Sizes match: True\n",
      "\n",
      "Len x_train: 490\n",
      "Len x_test: 426\n",
      "Len y_train: 490\n",
      "Len x_test: 426\n"
     ]
    }
   ],
   "source": [
    "# train test split / separate labels and features\n",
    "\n",
    "label_col = 'murder_per_100_k'\n",
    "\n",
    "split_yr = 2014\n",
    "\n",
    "x_train_s = df_train_s_ma.drop([label_col], axis=1).drop('MSA_abbr', axis=1)\n",
    "x_test_s = df_test.drop([label_col], axis=1).drop('MSA_abbr', axis=1)\n",
    "y_train = df_train_s_ma[label_col]\n",
    "y_test = df_test[label_col]\n",
    "\n",
    "print('Sizes match: {}'.format(len(x_train_s)==len(y_train)))\n",
    "print()\n",
    "print('Len x_train: {}'.format(len(x_train_s)))\n",
    "print('Len x_test: {}'.format(len(x_test_s)))\n",
    "print('Len y_train: {}'.format(len(y_train)))\n",
    "print('Len x_test: {}'.format(len(y_test)))"
   ]
  },
  {
   "cell_type": "code",
   "execution_count": 19,
   "metadata": {
    "collapsed": true
   },
   "outputs": [],
   "source": [
    "# standardize data\n",
    "\n",
    "from sklearn.preprocessing import StandardScaler\n",
    "standardizer = StandardScaler().fit(x_train_s)\n",
    "\n",
    "x_train = standardizer.transform(x_train_s)\n",
    "x_test = standardizer.transform(x_test_s)"
   ]
  },
  {
   "cell_type": "markdown",
   "metadata": {},
   "source": [
    "### Simple Linear Regression"
   ]
  },
  {
   "cell_type": "code",
   "execution_count": 20,
   "metadata": {
    "collapsed": true
   },
   "outputs": [],
   "source": [
    "from sklearn.linear_model import LinearRegression, RidgeCV, LassoCV, BayesianRidge, HuberRegressor\n",
    "from sklearn.model_selection import GridSearchCV"
   ]
  },
  {
   "cell_type": "code",
   "execution_count": 21,
   "metadata": {
    "collapsed": true
   },
   "outputs": [],
   "source": [
    "# instantiate and fit models\n",
    "\n",
    "def make_models(x_train, y_train):\n",
    "    md = dict()\n",
    "\n",
    "    md['linear'] = LinearRegression().fit(x_train, y_train)\n",
    "    md['ridge'] = RidgeCV(cv=15).fit(x_train, y_train)\n",
    "    md['lasso'] = LassoCV(cv=15).fit(x_train, y_train)\n",
    "    md['bayes'] = BayesianRidge(tol=0.0001).fit(x_train, y_train)\n",
    "    md['huber'] = GridSearchCV(HuberRegressor(),{'epsilon': [1.0,1.1,1.2,1.3,1.4,1.5,1.6,1.7]}).fit(x_train, y_train).best_estimator_\n",
    "    \n",
    "    return md"
   ]
  },
  {
   "cell_type": "code",
   "execution_count": 22,
   "metadata": {
    "collapsed": true
   },
   "outputs": [],
   "source": [
    "# score models\n",
    "\n",
    "def score_model(model):\n",
    "\n",
    "    train_score = model.score(x_train, y_train)\n",
    "    test_score = model.score(x_test, y_test)\n",
    "\n",
    "    return np.array([train_score, test_score])"
   ]
  },
  {
   "cell_type": "code",
   "execution_count": 23,
   "metadata": {
    "collapsed": true
   },
   "outputs": [],
   "source": [
    "def results_df(model):\n",
    "\n",
    "    # get train and test scores\n",
    "    scores_df = pd.DataFrame(score_model(model)).transpose()\n",
    "    scores_df.columns = ['Train R2','Test R2']\n",
    "\n",
    "    # get coefficient matrix\n",
    "    coeffs_df = pd.DataFrame(model.coef_).transpose()\n",
    "    coeffs_df.columns = x_train_s.columns\n",
    "\n",
    "    # join dataframes\n",
    "    return pd.concat([scores_df, coeffs_df], axis=1)"
   ]
  },
  {
   "cell_type": "code",
   "execution_count": 24,
   "metadata": {
    "collapsed": true
   },
   "outputs": [],
   "source": [
    "from sklearn.utils import resample"
   ]
  },
  {
   "cell_type": "code",
   "execution_count": 25,
   "metadata": {
    "collapsed": true
   },
   "outputs": [],
   "source": [
    "def run_experiment(n_iters):\n",
    "    \n",
    "    sample_results = dict()\n",
    "    \n",
    "    for n in range(n_iters):\n",
    "        # get new sample\n",
    "        xb, yb = resample(x_train, y_train)\n",
    "\n",
    "        # make and fit models\n",
    "        model_dict = make_models(xb, yb)\n",
    "\n",
    "        # get sample of results for each model\n",
    "        for key in model_dict:\n",
    "            \n",
    "            # initialize empty dictionary\n",
    "            if key not in sample_results:\n",
    "                sample_results[key] = []\n",
    "                        \n",
    "            # get model results\n",
    "            sample_results[key].append(results_df(model_dict[key]))\n",
    "            \n",
    "    # concatenate results dfs into single df\n",
    "    for key in sample_results:\n",
    "        sample_results[key] = pd.concat(sample_results[key])\n",
    "        \n",
    "    return sample_results"
   ]
  },
  {
   "cell_type": "code",
   "execution_count": 26,
   "metadata": {},
   "outputs": [
    {
     "name": "stderr",
     "output_type": "stream",
     "text": [
      "/Users/ilanjdor/anaconda/lib/python3.6/site-packages/sklearn/linear_model/coordinate_descent.py:484: ConvergenceWarning: Objective did not converge. You might want to increase the number of iterations. Fitting data with very small alpha may cause precision problems.\n",
      "  ConvergenceWarning)\n",
      "/Users/ilanjdor/anaconda/lib/python3.6/site-packages/sklearn/linear_model/coordinate_descent.py:484: ConvergenceWarning: Objective did not converge. You might want to increase the number of iterations. Fitting data with very small alpha may cause precision problems.\n",
      "  ConvergenceWarning)\n",
      "/Users/ilanjdor/anaconda/lib/python3.6/site-packages/sklearn/linear_model/coordinate_descent.py:484: ConvergenceWarning: Objective did not converge. You might want to increase the number of iterations. Fitting data with very small alpha may cause precision problems.\n",
      "  ConvergenceWarning)\n",
      "/Users/ilanjdor/anaconda/lib/python3.6/site-packages/sklearn/linear_model/coordinate_descent.py:484: ConvergenceWarning: Objective did not converge. You might want to increase the number of iterations. Fitting data with very small alpha may cause precision problems.\n",
      "  ConvergenceWarning)\n",
      "/Users/ilanjdor/anaconda/lib/python3.6/site-packages/sklearn/linear_model/coordinate_descent.py:484: ConvergenceWarning: Objective did not converge. You might want to increase the number of iterations. Fitting data with very small alpha may cause precision problems.\n",
      "  ConvergenceWarning)\n",
      "/Users/ilanjdor/anaconda/lib/python3.6/site-packages/sklearn/linear_model/coordinate_descent.py:484: ConvergenceWarning: Objective did not converge. You might want to increase the number of iterations. Fitting data with very small alpha may cause precision problems.\n",
      "  ConvergenceWarning)\n",
      "/Users/ilanjdor/anaconda/lib/python3.6/site-packages/sklearn/linear_model/coordinate_descent.py:484: ConvergenceWarning: Objective did not converge. You might want to increase the number of iterations. Fitting data with very small alpha may cause precision problems.\n",
      "  ConvergenceWarning)\n",
      "/Users/ilanjdor/anaconda/lib/python3.6/site-packages/sklearn/linear_model/coordinate_descent.py:484: ConvergenceWarning: Objective did not converge. You might want to increase the number of iterations. Fitting data with very small alpha may cause precision problems.\n",
      "  ConvergenceWarning)\n",
      "/Users/ilanjdor/anaconda/lib/python3.6/site-packages/sklearn/linear_model/coordinate_descent.py:484: ConvergenceWarning: Objective did not converge. You might want to increase the number of iterations. Fitting data with very small alpha may cause precision problems.\n",
      "  ConvergenceWarning)\n",
      "/Users/ilanjdor/anaconda/lib/python3.6/site-packages/sklearn/linear_model/coordinate_descent.py:484: ConvergenceWarning: Objective did not converge. You might want to increase the number of iterations. Fitting data with very small alpha may cause precision problems.\n",
      "  ConvergenceWarning)\n",
      "/Users/ilanjdor/anaconda/lib/python3.6/site-packages/sklearn/linear_model/coordinate_descent.py:484: ConvergenceWarning: Objective did not converge. You might want to increase the number of iterations. Fitting data with very small alpha may cause precision problems.\n",
      "  ConvergenceWarning)\n",
      "/Users/ilanjdor/anaconda/lib/python3.6/site-packages/sklearn/linear_model/coordinate_descent.py:484: ConvergenceWarning: Objective did not converge. You might want to increase the number of iterations. Fitting data with very small alpha may cause precision problems.\n",
      "  ConvergenceWarning)\n",
      "/Users/ilanjdor/anaconda/lib/python3.6/site-packages/sklearn/linear_model/coordinate_descent.py:484: ConvergenceWarning: Objective did not converge. You might want to increase the number of iterations. Fitting data with very small alpha may cause precision problems.\n",
      "  ConvergenceWarning)\n",
      "/Users/ilanjdor/anaconda/lib/python3.6/site-packages/sklearn/linear_model/coordinate_descent.py:484: ConvergenceWarning: Objective did not converge. You might want to increase the number of iterations. Fitting data with very small alpha may cause precision problems.\n",
      "  ConvergenceWarning)\n",
      "/Users/ilanjdor/anaconda/lib/python3.6/site-packages/sklearn/linear_model/coordinate_descent.py:484: ConvergenceWarning: Objective did not converge. You might want to increase the number of iterations. Fitting data with very small alpha may cause precision problems.\n",
      "  ConvergenceWarning)\n",
      "/Users/ilanjdor/anaconda/lib/python3.6/site-packages/sklearn/linear_model/coordinate_descent.py:484: ConvergenceWarning: Objective did not converge. You might want to increase the number of iterations. Fitting data with very small alpha may cause precision problems.\n",
      "  ConvergenceWarning)\n",
      "/Users/ilanjdor/anaconda/lib/python3.6/site-packages/sklearn/linear_model/coordinate_descent.py:484: ConvergenceWarning: Objective did not converge. You might want to increase the number of iterations. Fitting data with very small alpha may cause precision problems.\n",
      "  ConvergenceWarning)\n",
      "/Users/ilanjdor/anaconda/lib/python3.6/site-packages/sklearn/linear_model/coordinate_descent.py:484: ConvergenceWarning: Objective did not converge. You might want to increase the number of iterations. Fitting data with very small alpha may cause precision problems.\n",
      "  ConvergenceWarning)\n",
      "/Users/ilanjdor/anaconda/lib/python3.6/site-packages/sklearn/linear_model/coordinate_descent.py:484: ConvergenceWarning: Objective did not converge. You might want to increase the number of iterations. Fitting data with very small alpha may cause precision problems.\n",
      "  ConvergenceWarning)\n",
      "/Users/ilanjdor/anaconda/lib/python3.6/site-packages/sklearn/linear_model/coordinate_descent.py:484: ConvergenceWarning: Objective did not converge. You might want to increase the number of iterations. Fitting data with very small alpha may cause precision problems.\n",
      "  ConvergenceWarning)\n",
      "/Users/ilanjdor/anaconda/lib/python3.6/site-packages/sklearn/linear_model/coordinate_descent.py:484: ConvergenceWarning: Objective did not converge. You might want to increase the number of iterations. Fitting data with very small alpha may cause precision problems.\n",
      "  ConvergenceWarning)\n",
      "/Users/ilanjdor/anaconda/lib/python3.6/site-packages/sklearn/linear_model/coordinate_descent.py:484: ConvergenceWarning: Objective did not converge. You might want to increase the number of iterations. Fitting data with very small alpha may cause precision problems.\n",
      "  ConvergenceWarning)\n",
      "/Users/ilanjdor/anaconda/lib/python3.6/site-packages/sklearn/linear_model/coordinate_descent.py:484: ConvergenceWarning: Objective did not converge. You might want to increase the number of iterations. Fitting data with very small alpha may cause precision problems.\n",
      "  ConvergenceWarning)\n",
      "/Users/ilanjdor/anaconda/lib/python3.6/site-packages/sklearn/linear_model/coordinate_descent.py:484: ConvergenceWarning: Objective did not converge. You might want to increase the number of iterations. Fitting data with very small alpha may cause precision problems.\n",
      "  ConvergenceWarning)\n",
      "/Users/ilanjdor/anaconda/lib/python3.6/site-packages/sklearn/linear_model/coordinate_descent.py:484: ConvergenceWarning: Objective did not converge. You might want to increase the number of iterations. Fitting data with very small alpha may cause precision problems.\n",
      "  ConvergenceWarning)\n",
      "/Users/ilanjdor/anaconda/lib/python3.6/site-packages/sklearn/linear_model/coordinate_descent.py:484: ConvergenceWarning: Objective did not converge. You might want to increase the number of iterations. Fitting data with very small alpha may cause precision problems.\n",
      "  ConvergenceWarning)\n",
      "/Users/ilanjdor/anaconda/lib/python3.6/site-packages/sklearn/linear_model/coordinate_descent.py:484: ConvergenceWarning: Objective did not converge. You might want to increase the number of iterations. Fitting data with very small alpha may cause precision problems.\n",
      "  ConvergenceWarning)\n",
      "/Users/ilanjdor/anaconda/lib/python3.6/site-packages/sklearn/linear_model/coordinate_descent.py:484: ConvergenceWarning: Objective did not converge. You might want to increase the number of iterations. Fitting data with very small alpha may cause precision problems.\n",
      "  ConvergenceWarning)\n",
      "/Users/ilanjdor/anaconda/lib/python3.6/site-packages/sklearn/linear_model/coordinate_descent.py:484: ConvergenceWarning: Objective did not converge. You might want to increase the number of iterations. Fitting data with very small alpha may cause precision problems.\n",
      "  ConvergenceWarning)\n"
     ]
    },
    {
     "name": "stderr",
     "output_type": "stream",
     "text": [
      "/Users/ilanjdor/anaconda/lib/python3.6/site-packages/sklearn/linear_model/coordinate_descent.py:484: ConvergenceWarning: Objective did not converge. You might want to increase the number of iterations. Fitting data with very small alpha may cause precision problems.\n",
      "  ConvergenceWarning)\n",
      "/Users/ilanjdor/anaconda/lib/python3.6/site-packages/sklearn/linear_model/coordinate_descent.py:484: ConvergenceWarning: Objective did not converge. You might want to increase the number of iterations. Fitting data with very small alpha may cause precision problems.\n",
      "  ConvergenceWarning)\n",
      "/Users/ilanjdor/anaconda/lib/python3.6/site-packages/sklearn/linear_model/coordinate_descent.py:484: ConvergenceWarning: Objective did not converge. You might want to increase the number of iterations. Fitting data with very small alpha may cause precision problems.\n",
      "  ConvergenceWarning)\n",
      "/Users/ilanjdor/anaconda/lib/python3.6/site-packages/sklearn/linear_model/coordinate_descent.py:484: ConvergenceWarning: Objective did not converge. You might want to increase the number of iterations. Fitting data with very small alpha may cause precision problems.\n",
      "  ConvergenceWarning)\n",
      "/Users/ilanjdor/anaconda/lib/python3.6/site-packages/sklearn/linear_model/coordinate_descent.py:484: ConvergenceWarning: Objective did not converge. You might want to increase the number of iterations. Fitting data with very small alpha may cause precision problems.\n",
      "  ConvergenceWarning)\n",
      "/Users/ilanjdor/anaconda/lib/python3.6/site-packages/sklearn/linear_model/coordinate_descent.py:484: ConvergenceWarning: Objective did not converge. You might want to increase the number of iterations. Fitting data with very small alpha may cause precision problems.\n",
      "  ConvergenceWarning)\n",
      "/Users/ilanjdor/anaconda/lib/python3.6/site-packages/sklearn/linear_model/coordinate_descent.py:484: ConvergenceWarning: Objective did not converge. You might want to increase the number of iterations. Fitting data with very small alpha may cause precision problems.\n",
      "  ConvergenceWarning)\n",
      "/Users/ilanjdor/anaconda/lib/python3.6/site-packages/sklearn/linear_model/coordinate_descent.py:484: ConvergenceWarning: Objective did not converge. You might want to increase the number of iterations. Fitting data with very small alpha may cause precision problems.\n",
      "  ConvergenceWarning)\n",
      "/Users/ilanjdor/anaconda/lib/python3.6/site-packages/sklearn/linear_model/coordinate_descent.py:484: ConvergenceWarning: Objective did not converge. You might want to increase the number of iterations. Fitting data with very small alpha may cause precision problems.\n",
      "  ConvergenceWarning)\n",
      "/Users/ilanjdor/anaconda/lib/python3.6/site-packages/sklearn/linear_model/coordinate_descent.py:484: ConvergenceWarning: Objective did not converge. You might want to increase the number of iterations. Fitting data with very small alpha may cause precision problems.\n",
      "  ConvergenceWarning)\n",
      "/Users/ilanjdor/anaconda/lib/python3.6/site-packages/sklearn/linear_model/coordinate_descent.py:484: ConvergenceWarning: Objective did not converge. You might want to increase the number of iterations. Fitting data with very small alpha may cause precision problems.\n",
      "  ConvergenceWarning)\n",
      "/Users/ilanjdor/anaconda/lib/python3.6/site-packages/sklearn/linear_model/coordinate_descent.py:484: ConvergenceWarning: Objective did not converge. You might want to increase the number of iterations. Fitting data with very small alpha may cause precision problems.\n",
      "  ConvergenceWarning)\n",
      "/Users/ilanjdor/anaconda/lib/python3.6/site-packages/sklearn/linear_model/coordinate_descent.py:484: ConvergenceWarning: Objective did not converge. You might want to increase the number of iterations. Fitting data with very small alpha may cause precision problems.\n",
      "  ConvergenceWarning)\n",
      "/Users/ilanjdor/anaconda/lib/python3.6/site-packages/sklearn/linear_model/coordinate_descent.py:484: ConvergenceWarning: Objective did not converge. You might want to increase the number of iterations. Fitting data with very small alpha may cause precision problems.\n",
      "  ConvergenceWarning)\n",
      "/Users/ilanjdor/anaconda/lib/python3.6/site-packages/sklearn/linear_model/coordinate_descent.py:484: ConvergenceWarning: Objective did not converge. You might want to increase the number of iterations. Fitting data with very small alpha may cause precision problems.\n",
      "  ConvergenceWarning)\n",
      "/Users/ilanjdor/anaconda/lib/python3.6/site-packages/sklearn/linear_model/coordinate_descent.py:484: ConvergenceWarning: Objective did not converge. You might want to increase the number of iterations. Fitting data with very small alpha may cause precision problems.\n",
      "  ConvergenceWarning)\n",
      "/Users/ilanjdor/anaconda/lib/python3.6/site-packages/sklearn/linear_model/coordinate_descent.py:484: ConvergenceWarning: Objective did not converge. You might want to increase the number of iterations. Fitting data with very small alpha may cause precision problems.\n",
      "  ConvergenceWarning)\n",
      "/Users/ilanjdor/anaconda/lib/python3.6/site-packages/sklearn/linear_model/coordinate_descent.py:484: ConvergenceWarning: Objective did not converge. You might want to increase the number of iterations. Fitting data with very small alpha may cause precision problems.\n",
      "  ConvergenceWarning)\n",
      "/Users/ilanjdor/anaconda/lib/python3.6/site-packages/sklearn/linear_model/coordinate_descent.py:484: ConvergenceWarning: Objective did not converge. You might want to increase the number of iterations. Fitting data with very small alpha may cause precision problems.\n",
      "  ConvergenceWarning)\n",
      "/Users/ilanjdor/anaconda/lib/python3.6/site-packages/sklearn/linear_model/coordinate_descent.py:484: ConvergenceWarning: Objective did not converge. You might want to increase the number of iterations. Fitting data with very small alpha may cause precision problems.\n",
      "  ConvergenceWarning)\n",
      "/Users/ilanjdor/anaconda/lib/python3.6/site-packages/sklearn/linear_model/coordinate_descent.py:484: ConvergenceWarning: Objective did not converge. You might want to increase the number of iterations. Fitting data with very small alpha may cause precision problems.\n",
      "  ConvergenceWarning)\n",
      "/Users/ilanjdor/anaconda/lib/python3.6/site-packages/sklearn/linear_model/coordinate_descent.py:484: ConvergenceWarning: Objective did not converge. You might want to increase the number of iterations. Fitting data with very small alpha may cause precision problems.\n",
      "  ConvergenceWarning)\n",
      "/Users/ilanjdor/anaconda/lib/python3.6/site-packages/sklearn/linear_model/coordinate_descent.py:484: ConvergenceWarning: Objective did not converge. You might want to increase the number of iterations. Fitting data with very small alpha may cause precision problems.\n",
      "  ConvergenceWarning)\n",
      "/Users/ilanjdor/anaconda/lib/python3.6/site-packages/sklearn/linear_model/coordinate_descent.py:484: ConvergenceWarning: Objective did not converge. You might want to increase the number of iterations. Fitting data with very small alpha may cause precision problems.\n",
      "  ConvergenceWarning)\n",
      "/Users/ilanjdor/anaconda/lib/python3.6/site-packages/sklearn/linear_model/coordinate_descent.py:484: ConvergenceWarning: Objective did not converge. You might want to increase the number of iterations. Fitting data with very small alpha may cause precision problems.\n",
      "  ConvergenceWarning)\n",
      "/Users/ilanjdor/anaconda/lib/python3.6/site-packages/sklearn/linear_model/coordinate_descent.py:484: ConvergenceWarning: Objective did not converge. You might want to increase the number of iterations. Fitting data with very small alpha may cause precision problems.\n",
      "  ConvergenceWarning)\n",
      "/Users/ilanjdor/anaconda/lib/python3.6/site-packages/sklearn/linear_model/coordinate_descent.py:484: ConvergenceWarning: Objective did not converge. You might want to increase the number of iterations. Fitting data with very small alpha may cause precision problems.\n",
      "  ConvergenceWarning)\n",
      "/Users/ilanjdor/anaconda/lib/python3.6/site-packages/sklearn/linear_model/coordinate_descent.py:484: ConvergenceWarning: Objective did not converge. You might want to increase the number of iterations. Fitting data with very small alpha may cause precision problems.\n",
      "  ConvergenceWarning)\n",
      "/Users/ilanjdor/anaconda/lib/python3.6/site-packages/sklearn/linear_model/coordinate_descent.py:484: ConvergenceWarning: Objective did not converge. You might want to increase the number of iterations. Fitting data with very small alpha may cause precision problems.\n",
      "  ConvergenceWarning)\n"
     ]
    },
    {
     "name": "stderr",
     "output_type": "stream",
     "text": [
      "/Users/ilanjdor/anaconda/lib/python3.6/site-packages/sklearn/linear_model/coordinate_descent.py:484: ConvergenceWarning: Objective did not converge. You might want to increase the number of iterations. Fitting data with very small alpha may cause precision problems.\n",
      "  ConvergenceWarning)\n",
      "/Users/ilanjdor/anaconda/lib/python3.6/site-packages/sklearn/linear_model/coordinate_descent.py:484: ConvergenceWarning: Objective did not converge. You might want to increase the number of iterations. Fitting data with very small alpha may cause precision problems.\n",
      "  ConvergenceWarning)\n",
      "/Users/ilanjdor/anaconda/lib/python3.6/site-packages/sklearn/linear_model/coordinate_descent.py:484: ConvergenceWarning: Objective did not converge. You might want to increase the number of iterations. Fitting data with very small alpha may cause precision problems.\n",
      "  ConvergenceWarning)\n",
      "/Users/ilanjdor/anaconda/lib/python3.6/site-packages/sklearn/linear_model/coordinate_descent.py:484: ConvergenceWarning: Objective did not converge. You might want to increase the number of iterations. Fitting data with very small alpha may cause precision problems.\n",
      "  ConvergenceWarning)\n",
      "/Users/ilanjdor/anaconda/lib/python3.6/site-packages/sklearn/linear_model/coordinate_descent.py:484: ConvergenceWarning: Objective did not converge. You might want to increase the number of iterations. Fitting data with very small alpha may cause precision problems.\n",
      "  ConvergenceWarning)\n",
      "/Users/ilanjdor/anaconda/lib/python3.6/site-packages/sklearn/linear_model/coordinate_descent.py:484: ConvergenceWarning: Objective did not converge. You might want to increase the number of iterations. Fitting data with very small alpha may cause precision problems.\n",
      "  ConvergenceWarning)\n",
      "/Users/ilanjdor/anaconda/lib/python3.6/site-packages/sklearn/linear_model/coordinate_descent.py:484: ConvergenceWarning: Objective did not converge. You might want to increase the number of iterations. Fitting data with very small alpha may cause precision problems.\n",
      "  ConvergenceWarning)\n",
      "/Users/ilanjdor/anaconda/lib/python3.6/site-packages/sklearn/linear_model/coordinate_descent.py:484: ConvergenceWarning: Objective did not converge. You might want to increase the number of iterations. Fitting data with very small alpha may cause precision problems.\n",
      "  ConvergenceWarning)\n",
      "/Users/ilanjdor/anaconda/lib/python3.6/site-packages/sklearn/linear_model/coordinate_descent.py:484: ConvergenceWarning: Objective did not converge. You might want to increase the number of iterations. Fitting data with very small alpha may cause precision problems.\n",
      "  ConvergenceWarning)\n",
      "/Users/ilanjdor/anaconda/lib/python3.6/site-packages/sklearn/linear_model/coordinate_descent.py:484: ConvergenceWarning: Objective did not converge. You might want to increase the number of iterations. Fitting data with very small alpha may cause precision problems.\n",
      "  ConvergenceWarning)\n",
      "/Users/ilanjdor/anaconda/lib/python3.6/site-packages/sklearn/linear_model/coordinate_descent.py:484: ConvergenceWarning: Objective did not converge. You might want to increase the number of iterations. Fitting data with very small alpha may cause precision problems.\n",
      "  ConvergenceWarning)\n",
      "/Users/ilanjdor/anaconda/lib/python3.6/site-packages/sklearn/linear_model/coordinate_descent.py:484: ConvergenceWarning: Objective did not converge. You might want to increase the number of iterations. Fitting data with very small alpha may cause precision problems.\n",
      "  ConvergenceWarning)\n",
      "/Users/ilanjdor/anaconda/lib/python3.6/site-packages/sklearn/linear_model/coordinate_descent.py:484: ConvergenceWarning: Objective did not converge. You might want to increase the number of iterations. Fitting data with very small alpha may cause precision problems.\n",
      "  ConvergenceWarning)\n",
      "/Users/ilanjdor/anaconda/lib/python3.6/site-packages/sklearn/linear_model/coordinate_descent.py:484: ConvergenceWarning: Objective did not converge. You might want to increase the number of iterations. Fitting data with very small alpha may cause precision problems.\n",
      "  ConvergenceWarning)\n",
      "/Users/ilanjdor/anaconda/lib/python3.6/site-packages/sklearn/linear_model/coordinate_descent.py:484: ConvergenceWarning: Objective did not converge. You might want to increase the number of iterations. Fitting data with very small alpha may cause precision problems.\n",
      "  ConvergenceWarning)\n",
      "/Users/ilanjdor/anaconda/lib/python3.6/site-packages/sklearn/linear_model/coordinate_descent.py:484: ConvergenceWarning: Objective did not converge. You might want to increase the number of iterations. Fitting data with very small alpha may cause precision problems.\n",
      "  ConvergenceWarning)\n",
      "/Users/ilanjdor/anaconda/lib/python3.6/site-packages/sklearn/linear_model/coordinate_descent.py:484: ConvergenceWarning: Objective did not converge. You might want to increase the number of iterations. Fitting data with very small alpha may cause precision problems.\n",
      "  ConvergenceWarning)\n",
      "/Users/ilanjdor/anaconda/lib/python3.6/site-packages/sklearn/linear_model/coordinate_descent.py:484: ConvergenceWarning: Objective did not converge. You might want to increase the number of iterations. Fitting data with very small alpha may cause precision problems.\n",
      "  ConvergenceWarning)\n",
      "/Users/ilanjdor/anaconda/lib/python3.6/site-packages/sklearn/linear_model/coordinate_descent.py:484: ConvergenceWarning: Objective did not converge. You might want to increase the number of iterations. Fitting data with very small alpha may cause precision problems.\n",
      "  ConvergenceWarning)\n",
      "/Users/ilanjdor/anaconda/lib/python3.6/site-packages/sklearn/linear_model/coordinate_descent.py:484: ConvergenceWarning: Objective did not converge. You might want to increase the number of iterations. Fitting data with very small alpha may cause precision problems.\n",
      "  ConvergenceWarning)\n",
      "/Users/ilanjdor/anaconda/lib/python3.6/site-packages/sklearn/linear_model/coordinate_descent.py:484: ConvergenceWarning: Objective did not converge. You might want to increase the number of iterations. Fitting data with very small alpha may cause precision problems.\n",
      "  ConvergenceWarning)\n",
      "/Users/ilanjdor/anaconda/lib/python3.6/site-packages/sklearn/linear_model/coordinate_descent.py:484: ConvergenceWarning: Objective did not converge. You might want to increase the number of iterations. Fitting data with very small alpha may cause precision problems.\n",
      "  ConvergenceWarning)\n",
      "/Users/ilanjdor/anaconda/lib/python3.6/site-packages/sklearn/linear_model/coordinate_descent.py:484: ConvergenceWarning: Objective did not converge. You might want to increase the number of iterations. Fitting data with very small alpha may cause precision problems.\n",
      "  ConvergenceWarning)\n",
      "/Users/ilanjdor/anaconda/lib/python3.6/site-packages/sklearn/linear_model/coordinate_descent.py:484: ConvergenceWarning: Objective did not converge. You might want to increase the number of iterations. Fitting data with very small alpha may cause precision problems.\n",
      "  ConvergenceWarning)\n",
      "/Users/ilanjdor/anaconda/lib/python3.6/site-packages/sklearn/linear_model/coordinate_descent.py:484: ConvergenceWarning: Objective did not converge. You might want to increase the number of iterations. Fitting data with very small alpha may cause precision problems.\n",
      "  ConvergenceWarning)\n",
      "/Users/ilanjdor/anaconda/lib/python3.6/site-packages/sklearn/linear_model/coordinate_descent.py:484: ConvergenceWarning: Objective did not converge. You might want to increase the number of iterations. Fitting data with very small alpha may cause precision problems.\n",
      "  ConvergenceWarning)\n",
      "/Users/ilanjdor/anaconda/lib/python3.6/site-packages/sklearn/linear_model/coordinate_descent.py:484: ConvergenceWarning: Objective did not converge. You might want to increase the number of iterations. Fitting data with very small alpha may cause precision problems.\n",
      "  ConvergenceWarning)\n",
      "/Users/ilanjdor/anaconda/lib/python3.6/site-packages/sklearn/linear_model/coordinate_descent.py:484: ConvergenceWarning: Objective did not converge. You might want to increase the number of iterations. Fitting data with very small alpha may cause precision problems.\n",
      "  ConvergenceWarning)\n",
      "/Users/ilanjdor/anaconda/lib/python3.6/site-packages/sklearn/linear_model/coordinate_descent.py:484: ConvergenceWarning: Objective did not converge. You might want to increase the number of iterations. Fitting data with very small alpha may cause precision problems.\n",
      "  ConvergenceWarning)\n"
     ]
    },
    {
     "name": "stderr",
     "output_type": "stream",
     "text": [
      "/Users/ilanjdor/anaconda/lib/python3.6/site-packages/sklearn/linear_model/coordinate_descent.py:484: ConvergenceWarning: Objective did not converge. You might want to increase the number of iterations. Fitting data with very small alpha may cause precision problems.\n",
      "  ConvergenceWarning)\n"
     ]
    }
   ],
   "source": [
    "exp = run_experiment(100)"
   ]
  },
  {
   "cell_type": "code",
   "execution_count": 27,
   "metadata": {
    "collapsed": true,
    "scrolled": false
   },
   "outputs": [],
   "source": [
    "coef_dict = dict()\n",
    "\n",
    "# iterate over all models\n",
    "for key in exp:\n",
    "    \n",
    "    # iterate over results of this model\n",
    "    for c in exp[key].columns:\n",
    "        \n",
    "        # initialize dict for result names\n",
    "        if c not in coef_dict:\n",
    "            coef_dict[c] = dict()\n",
    "    \n",
    "        # add this coeff to the dict\n",
    "        coef_dict[c][key] = exp[key][c]\n",
    "\n",
    "# convert dict of dicts into dict of dataframes\n",
    "coef_dfs = {key: pd.DataFrame(coef_dict[key]) for key in coef_dict}"
   ]
  },
  {
   "cell_type": "code",
   "execution_count": 28,
   "metadata": {},
   "outputs": [
    {
     "name": "stdout",
     "output_type": "stream",
     "text": [
      "linear\n",
      "\n",
      "Train R2   -6.409481e+24\n",
      "Test R2    -9.100402e+24\n",
      "dtype: float64\n",
      "\n",
      "ridge\n",
      "\n",
      "Train R2    0.963465\n",
      "Test R2     0.614645\n",
      "dtype: float64\n",
      "\n",
      "lasso\n",
      "\n",
      "Train R2    0.963631\n",
      "Test R2     0.582681\n",
      "dtype: float64\n",
      "\n",
      "bayes\n",
      "\n",
      "Train R2    0.963921\n",
      "Test R2     0.624212\n",
      "dtype: float64\n",
      "\n",
      "huber\n",
      "\n",
      "Train R2    0.894911\n",
      "Test R2     0.543365\n",
      "dtype: float64\n",
      "\n"
     ]
    }
   ],
   "source": [
    "for key in exp:\n",
    "    print(key)\n",
    "    print()\n",
    "    print(exp[key].mean()[:2])\n",
    "    print()"
   ]
  },
  {
   "cell_type": "code",
   "execution_count": 29,
   "metadata": {
    "collapsed": true,
    "scrolled": true
   },
   "outputs": [],
   "source": [
    "def print_runtime():\n",
    "    hours = int(str(end)[0:2])-int(str(start)[0:2])\n",
    "    minutes = int(str(end)[3:5])-int(str(start)[3:5])\n",
    "    seconds = int(str(end)[6:8])-int(str(start)[6:8])\n",
    "    if hours < 0:\n",
    "        hours = hours + 24\n",
    "    if minutes < 0:\n",
    "        minutes = minutes + 60\n",
    "        hours = hours - 1\n",
    "    if seconds < 0:\n",
    "        seconds = seconds + 60\n",
    "        minutes = minutes - 1\n",
    "    print(hours, \"hrs\", minutes, \"mins\", seconds, \"secs\")"
   ]
  },
  {
   "cell_type": "code",
   "execution_count": 30,
   "metadata": {
    "collapsed": true
   },
   "outputs": [],
   "source": [
    "end = datetime.datetime.time(datetime.datetime.now())"
   ]
  },
  {
   "cell_type": "code",
   "execution_count": 31,
   "metadata": {},
   "outputs": [
    {
     "name": "stdout",
     "output_type": "stream",
     "text": [
      "0 hrs 7 mins 58 secs\n"
     ]
    }
   ],
   "source": [
    "print_runtime()"
   ]
  }
 ],
 "metadata": {
  "kernelspec": {
   "display_name": "Python 3",
   "language": "python",
   "name": "python3"
  },
  "language_info": {
   "codemirror_mode": {
    "name": "ipython",
    "version": 3
   },
   "file_extension": ".py",
   "mimetype": "text/x-python",
   "name": "python",
   "nbconvert_exporter": "python",
   "pygments_lexer": "ipython3",
   "version": "3.6.1"
  }
 },
 "nbformat": 4,
 "nbformat_minor": 1
}
