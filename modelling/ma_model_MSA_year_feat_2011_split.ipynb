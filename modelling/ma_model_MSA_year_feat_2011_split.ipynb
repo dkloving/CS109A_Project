{
 "cells": [
  {
   "cell_type": "code",
   "execution_count": 1,
   "metadata": {
    "collapsed": true
   },
   "outputs": [],
   "source": [
    "import pandas as pd\n",
    "import numpy as np\n",
    "import matplotlib.pyplot as plt\n",
    "import datetime\n",
    "%matplotlib inline\n",
    "import seaborn as sns\n",
    "sns.set_context('poster')"
   ]
  },
  {
   "cell_type": "markdown",
   "metadata": {},
   "source": [
    "## Moving Average Models With MSA, Years and Features"
   ]
  },
  {
   "cell_type": "markdown",
   "metadata": {},
   "source": [
    "### Import, Split, and Standardize Data"
   ]
  },
  {
   "cell_type": "code",
   "execution_count": 2,
   "metadata": {
    "collapsed": true
   },
   "outputs": [],
   "source": [
    "start = datetime.datetime.time(datetime.datetime.now())"
   ]
  },
  {
   "cell_type": "code",
   "execution_count": 3,
   "metadata": {
    "collapsed": true
   },
   "outputs": [],
   "source": [
    "df = pd.read_csv('../data/merged/all_data_2006_to_2016.csv')"
   ]
  },
  {
   "cell_type": "code",
   "execution_count": 4,
   "metadata": {},
   "outputs": [
    {
     "name": "stdout",
     "output_type": "stream",
     "text": [
      "<class 'pandas.core.frame.DataFrame'>\n",
      "RangeIndex: 928 entries, 0 to 927\n",
      "Data columns (total 13 columns):\n",
      "MSA_orig                                                                       928 non-null object\n",
      "MSA_corr                                                                       928 non-null object\n",
      "MSA_abbr                                                                       928 non-null object\n",
      "year                                                                           928 non-null int64\n",
      "now_married_except_separated                                                   928 non-null float64\n",
      "less_than_high_school_diploma                                                  928 non-null float64\n",
      "unmarried_portion_of_women_15_to_50_years_who_had_a_birth_in_past_12_months    928 non-null float64\n",
      "households_with_food_stamp_snap_benefits                                       928 non-null float64\n",
      "percentage_married-couple_family                                               928 non-null float64\n",
      "percentage_female_householder_no_husband_present_family                        928 non-null float64\n",
      "poverty_all_people                                                             928 non-null float64\n",
      "house_median_value_(dollars)                                                   928 non-null int64\n",
      "murder_per_100_k                                                               928 non-null float64\n",
      "dtypes: float64(8), int64(2), object(3)\n",
      "memory usage: 94.3+ KB\n"
     ]
    }
   ],
   "source": [
    "df.info()"
   ]
  },
  {
   "cell_type": "code",
   "execution_count": 5,
   "metadata": {
    "collapsed": true
   },
   "outputs": [],
   "source": [
    "# drop extra MSA names\n",
    "df = df.drop(['MSA_orig', 'MSA_corr'], axis=1)"
   ]
  },
  {
   "cell_type": "code",
   "execution_count": 6,
   "metadata": {
    "collapsed": true
   },
   "outputs": [],
   "source": [
    "# remove outliers with atypically high murder rates\n",
    "df = df[df.MSA_abbr != 'NEW_ORLEANS_LA']\n",
    "df = df[(df.MSA_abbr != 'MEMPHIS_TN') | (df.year != 2016)]\n",
    "df = df[(df.MSA_abbr != 'BATON_ROUGE_LA') | (df.year != 2007)]"
   ]
  },
  {
   "cell_type": "code",
   "execution_count": 7,
   "metadata": {
    "collapsed": true
   },
   "outputs": [],
   "source": [
    "# preserve 'MSA_abbr'\n",
    "df_msa = df['MSA_abbr']"
   ]
  },
  {
   "cell_type": "code",
   "execution_count": 8,
   "metadata": {
    "collapsed": true
   },
   "outputs": [],
   "source": [
    "df = pd.get_dummies(df, columns=['MSA_abbr'], drop_first=False)"
   ]
  },
  {
   "cell_type": "code",
   "execution_count": 9,
   "metadata": {
    "collapsed": true
   },
   "outputs": [],
   "source": [
    "# put back 'MSA_abbr'\n",
    "df['MSA_abbr'] = df_msa.values"
   ]
  },
  {
   "cell_type": "code",
   "execution_count": 10,
   "metadata": {
    "collapsed": true
   },
   "outputs": [],
   "source": [
    "# move 'MSA_abbr' from last column to first column\n",
    "cols = [df.columns[-1]] + [col for col in df if col != df.columns[-1]]\n",
    "df = df[cols]"
   ]
  },
  {
   "cell_type": "code",
   "execution_count": 11,
   "metadata": {},
   "outputs": [
    {
     "data": {
      "text/html": [
       "<div>\n",
       "<style scoped>\n",
       "    .dataframe tbody tr th:only-of-type {\n",
       "        vertical-align: middle;\n",
       "    }\n",
       "\n",
       "    .dataframe tbody tr th {\n",
       "        vertical-align: top;\n",
       "    }\n",
       "\n",
       "    .dataframe thead th {\n",
       "        text-align: right;\n",
       "    }\n",
       "</style>\n",
       "<table border=\"1\" class=\"dataframe\">\n",
       "  <thead>\n",
       "    <tr style=\"text-align: right;\">\n",
       "      <th></th>\n",
       "      <th>MSA_abbr</th>\n",
       "      <th>year</th>\n",
       "      <th>now_married_except_separated</th>\n",
       "      <th>less_than_high_school_diploma</th>\n",
       "      <th>unmarried_portion_of_women_15_to_50_years_who_had_a_birth_in_past_12_months</th>\n",
       "      <th>households_with_food_stamp_snap_benefits</th>\n",
       "      <th>percentage_married-couple_family</th>\n",
       "      <th>percentage_female_householder_no_husband_present_family</th>\n",
       "      <th>poverty_all_people</th>\n",
       "      <th>house_median_value_(dollars)</th>\n",
       "      <th>...</th>\n",
       "      <th>MSA_abbr_TAMPA_FL</th>\n",
       "      <th>MSA_abbr_TOLEDO_OH</th>\n",
       "      <th>MSA_abbr_TUCSON_AZ</th>\n",
       "      <th>MSA_abbr_TULSA_OK</th>\n",
       "      <th>MSA_abbr_VIRGINIA_BEACH_NC</th>\n",
       "      <th>MSA_abbr_WASHINGTON_DC</th>\n",
       "      <th>MSA_abbr_WICHITA_KS</th>\n",
       "      <th>MSA_abbr_WINSTON_NC</th>\n",
       "      <th>MSA_abbr_WORCESTER_MA</th>\n",
       "      <th>MSA_abbr_YOUNGSTOWN_OH</th>\n",
       "    </tr>\n",
       "  </thead>\n",
       "  <tbody>\n",
       "    <tr>\n",
       "      <th>0</th>\n",
       "      <td>ATLANTA_GA</td>\n",
       "      <td>2006</td>\n",
       "      <td>49.2</td>\n",
       "      <td>14.2</td>\n",
       "      <td>34.3</td>\n",
       "      <td>5.9</td>\n",
       "      <td>72.6</td>\n",
       "      <td>20.0</td>\n",
       "      <td>11.9</td>\n",
       "      <td>186800</td>\n",
       "      <td>...</td>\n",
       "      <td>0</td>\n",
       "      <td>0</td>\n",
       "      <td>0</td>\n",
       "      <td>0</td>\n",
       "      <td>0</td>\n",
       "      <td>0</td>\n",
       "      <td>0</td>\n",
       "      <td>0</td>\n",
       "      <td>0</td>\n",
       "      <td>0</td>\n",
       "    </tr>\n",
       "    <tr>\n",
       "      <th>1</th>\n",
       "      <td>AUSTIN_TX</td>\n",
       "      <td>2006</td>\n",
       "      <td>48.7</td>\n",
       "      <td>13.7</td>\n",
       "      <td>30.9</td>\n",
       "      <td>5.9</td>\n",
       "      <td>75.0</td>\n",
       "      <td>17.0</td>\n",
       "      <td>13.0</td>\n",
       "      <td>164100</td>\n",
       "      <td>...</td>\n",
       "      <td>0</td>\n",
       "      <td>0</td>\n",
       "      <td>0</td>\n",
       "      <td>0</td>\n",
       "      <td>0</td>\n",
       "      <td>0</td>\n",
       "      <td>0</td>\n",
       "      <td>0</td>\n",
       "      <td>0</td>\n",
       "      <td>0</td>\n",
       "    </tr>\n",
       "    <tr>\n",
       "      <th>2</th>\n",
       "      <td>BALTIMORE_MD</td>\n",
       "      <td>2006</td>\n",
       "      <td>47.2</td>\n",
       "      <td>14.0</td>\n",
       "      <td>31.4</td>\n",
       "      <td>5.5</td>\n",
       "      <td>71.8</td>\n",
       "      <td>21.4</td>\n",
       "      <td>9.0</td>\n",
       "      <td>300600</td>\n",
       "      <td>...</td>\n",
       "      <td>0</td>\n",
       "      <td>0</td>\n",
       "      <td>0</td>\n",
       "      <td>0</td>\n",
       "      <td>0</td>\n",
       "      <td>0</td>\n",
       "      <td>0</td>\n",
       "      <td>0</td>\n",
       "      <td>0</td>\n",
       "      <td>0</td>\n",
       "    </tr>\n",
       "    <tr>\n",
       "      <th>3</th>\n",
       "      <td>BIRMINGHAM_AL</td>\n",
       "      <td>2006</td>\n",
       "      <td>50.9</td>\n",
       "      <td>15.8</td>\n",
       "      <td>34.7</td>\n",
       "      <td>7.1</td>\n",
       "      <td>72.5</td>\n",
       "      <td>21.6</td>\n",
       "      <td>13.1</td>\n",
       "      <td>131400</td>\n",
       "      <td>...</td>\n",
       "      <td>0</td>\n",
       "      <td>0</td>\n",
       "      <td>0</td>\n",
       "      <td>0</td>\n",
       "      <td>0</td>\n",
       "      <td>0</td>\n",
       "      <td>0</td>\n",
       "      <td>0</td>\n",
       "      <td>0</td>\n",
       "      <td>0</td>\n",
       "    </tr>\n",
       "    <tr>\n",
       "      <th>4</th>\n",
       "      <td>BUFFALO_NY</td>\n",
       "      <td>2006</td>\n",
       "      <td>47.1</td>\n",
       "      <td>12.9</td>\n",
       "      <td>38.0</td>\n",
       "      <td>9.6</td>\n",
       "      <td>72.8</td>\n",
       "      <td>20.9</td>\n",
       "      <td>14.2</td>\n",
       "      <td>105000</td>\n",
       "      <td>...</td>\n",
       "      <td>0</td>\n",
       "      <td>0</td>\n",
       "      <td>0</td>\n",
       "      <td>0</td>\n",
       "      <td>0</td>\n",
       "      <td>0</td>\n",
       "      <td>0</td>\n",
       "      <td>0</td>\n",
       "      <td>0</td>\n",
       "      <td>0</td>\n",
       "    </tr>\n",
       "  </tbody>\n",
       "</table>\n",
       "<p>5 rows × 116 columns</p>\n",
       "</div>"
      ],
      "text/plain": [
       "        MSA_abbr  year  now_married_except_separated  \\\n",
       "0     ATLANTA_GA  2006                          49.2   \n",
       "1      AUSTIN_TX  2006                          48.7   \n",
       "2   BALTIMORE_MD  2006                          47.2   \n",
       "3  BIRMINGHAM_AL  2006                          50.9   \n",
       "4     BUFFALO_NY  2006                          47.1   \n",
       "\n",
       "   less_than_high_school_diploma  \\\n",
       "0                           14.2   \n",
       "1                           13.7   \n",
       "2                           14.0   \n",
       "3                           15.8   \n",
       "4                           12.9   \n",
       "\n",
       "   unmarried_portion_of_women_15_to_50_years_who_had_a_birth_in_past_12_months  \\\n",
       "0                                               34.3                             \n",
       "1                                               30.9                             \n",
       "2                                               31.4                             \n",
       "3                                               34.7                             \n",
       "4                                               38.0                             \n",
       "\n",
       "   households_with_food_stamp_snap_benefits  percentage_married-couple_family  \\\n",
       "0                                       5.9                              72.6   \n",
       "1                                       5.9                              75.0   \n",
       "2                                       5.5                              71.8   \n",
       "3                                       7.1                              72.5   \n",
       "4                                       9.6                              72.8   \n",
       "\n",
       "   percentage_female_householder_no_husband_present_family  \\\n",
       "0                                               20.0         \n",
       "1                                               17.0         \n",
       "2                                               21.4         \n",
       "3                                               21.6         \n",
       "4                                               20.9         \n",
       "\n",
       "   poverty_all_people  house_median_value_(dollars)           ...            \\\n",
       "0                11.9                        186800           ...             \n",
       "1                13.0                        164100           ...             \n",
       "2                 9.0                        300600           ...             \n",
       "3                13.1                        131400           ...             \n",
       "4                14.2                        105000           ...             \n",
       "\n",
       "   MSA_abbr_TAMPA_FL  MSA_abbr_TOLEDO_OH  MSA_abbr_TUCSON_AZ  \\\n",
       "0                  0                   0                   0   \n",
       "1                  0                   0                   0   \n",
       "2                  0                   0                   0   \n",
       "3                  0                   0                   0   \n",
       "4                  0                   0                   0   \n",
       "\n",
       "   MSA_abbr_TULSA_OK  MSA_abbr_VIRGINIA_BEACH_NC  MSA_abbr_WASHINGTON_DC  \\\n",
       "0                  0                           0                       0   \n",
       "1                  0                           0                       0   \n",
       "2                  0                           0                       0   \n",
       "3                  0                           0                       0   \n",
       "4                  0                           0                       0   \n",
       "\n",
       "   MSA_abbr_WICHITA_KS  MSA_abbr_WINSTON_NC  MSA_abbr_WORCESTER_MA  \\\n",
       "0                    0                    0                      0   \n",
       "1                    0                    0                      0   \n",
       "2                    0                    0                      0   \n",
       "3                    0                    0                      0   \n",
       "4                    0                    0                      0   \n",
       "\n",
       "   MSA_abbr_YOUNGSTOWN_OH  \n",
       "0                       0  \n",
       "1                       0  \n",
       "2                       0  \n",
       "3                       0  \n",
       "4                       0  \n",
       "\n",
       "[5 rows x 116 columns]"
      ]
     },
     "execution_count": 11,
     "metadata": {},
     "output_type": "execute_result"
    }
   ],
   "source": [
    "df.head()"
   ]
  },
  {
   "cell_type": "code",
   "execution_count": 12,
   "metadata": {},
   "outputs": [
    {
     "data": {
      "text/plain": [
       "['MSA_abbr',\n",
       " 'year',\n",
       " 'now_married_except_separated',\n",
       " 'less_than_high_school_diploma',\n",
       " 'unmarried_portion_of_women_15_to_50_years_who_had_a_birth_in_past_12_months',\n",
       " 'households_with_food_stamp_snap_benefits',\n",
       " 'percentage_married-couple_family',\n",
       " 'percentage_female_householder_no_husband_present_family',\n",
       " 'poverty_all_people',\n",
       " 'house_median_value_(dollars)',\n",
       " 'murder_per_100_k',\n",
       " 'MSA_abbr_AKRON_OH',\n",
       " 'MSA_abbr_ALBANY_NY',\n",
       " 'MSA_abbr_ALBUQUERQUE_NM',\n",
       " 'MSA_abbr_ALLENTOWN_PA']"
      ]
     },
     "execution_count": 12,
     "metadata": {},
     "output_type": "execute_result"
    }
   ],
   "source": [
    "list(df)[:15]"
   ]
  },
  {
   "cell_type": "code",
   "execution_count": 13,
   "metadata": {},
   "outputs": [
    {
     "name": "stdout",
     "output_type": "stream",
     "text": [
      "Len train: 490\n",
      "Len test: 426\n"
     ]
    }
   ],
   "source": [
    "# train test split / separate labels and features\n",
    "\n",
    "label_col = 'murder_per_100_k'\n",
    "\n",
    "split_yr = 2011\n",
    "\n",
    "df_train_s = df[df['year'] <= split_yr]\n",
    "df_test = df[df['year'] > split_yr]\n",
    "\n",
    "print('Len train: {}'.format(len(df_train_s)))\n",
    "print('Len test: {}'.format(len(df_test)))"
   ]
  },
  {
   "cell_type": "code",
   "execution_count": 14,
   "metadata": {
    "collapsed": true
   },
   "outputs": [],
   "source": [
    "# smooth the training data (features and response variable)\n",
    "# by averaging, for each observation, the values within each MSA\n",
    "# across a moving window of [ma_yrs] years.\n",
    "def moving_average(df, ma_yrs):\n",
    "    \n",
    "    # the min and max years in the dataset\n",
    "    # set the starting year of the earliest window\n",
    "    # and the ending year of the latest window\n",
    "    min_yr = df.year.min()\n",
    "    max_yr = df.year.max()\n",
    "    \n",
    "    # preserve columns\n",
    "    cols = list(df)\n",
    "    \n",
    "    # get the list of unique MSAs\n",
    "    # to cycle through\n",
    "    MSAs = df.MSA_abbr.unique()\n",
    "    \n",
    "    # here is where we will store the smoothed dataset\n",
    "    main_df = []\n",
    "    \n",
    "    # look for each possible year within the MSA\n",
    "    # to see whether it exists; if yes, create the\n",
    "    # smoothed data for it\n",
    "    for yr in range(min_yr, max_yr+1):\n",
    "        \n",
    "        # set the boundaries of the current window\n",
    "        window_min_yr = yr - int(ma_yrs/2)\n",
    "        window_max_yr = yr + int(ma_yrs/2)\n",
    "        \n",
    "        # create, for each MSA, the smoothed data\n",
    "        # for each year present in the MSA\n",
    "        for MSA in MSAs:\n",
    "            \n",
    "            # does the MSA have the row for this year?...\n",
    "            MSA_row = np.array(df[(df.MSA_abbr == MSA) & (df.year == yr)])\n",
    "            \n",
    "            # ... if not, skip to the next MSA\n",
    "            # otherwise, create the smoothed data for the MSA-year\n",
    "            if MSA_row.size == 0:\n",
    "                continue\n",
    "                \n",
    "            # preserve the one-hot-encoded data\n",
    "            dummies = MSA_row[:, 11:]\n",
    "            \n",
    "            # retrieve, for this MSA, the set of observations within the window\n",
    "            # for the current year\n",
    "            MSA_row = np.array(df[(df.MSA_abbr == MSA) & (df.year >= window_min_yr) & (df.year <= window_max_yr)])\n",
    "            \n",
    "            # leave off the one-hot-encoded data\n",
    "            # and also leave off the MSA and the year\n",
    "            MSA_row = MSA_row[:, 2:11]\n",
    "            \n",
    "            # smooth (i.e., average) the data for the current MSA-year\n",
    "            MSA_row = np.mean(MSA_row, axis=0)\n",
    "            \n",
    "            # append the original year to the smoothed row\n",
    "            # (we don't want the year value itself smoothed!)\n",
    "            MSA_row = np.append(yr, MSA_row)\n",
    "            \n",
    "            # append the MSA name to the smoothed row\n",
    "            MSA_row = np.append(MSA, MSA_row)\n",
    "            \n",
    "            # append the one-hot-encoded data to the smoothed row\n",
    "            MSA_row = np.append(MSA_row, dummies)\n",
    "            \n",
    "            # append the completed, smoothed row to the smoothed dataset\n",
    "            main_df.append(MSA_row)\n",
    "    \n",
    "    # make the dataset a pandas dataframe\n",
    "    main_df = pd.DataFrame(main_df)\n",
    "    \n",
    "    # assign the column names\n",
    "    main_df.columns = cols\n",
    "    \n",
    "    # return the smoothed dataframe, with column names\n",
    "    return main_df"
   ]
  },
  {
   "cell_type": "code",
   "execution_count": 15,
   "metadata": {
    "collapsed": true
   },
   "outputs": [],
   "source": [
    "df_train_s_ma = moving_average(df_train_s, 5)"
   ]
  },
  {
   "cell_type": "code",
   "execution_count": 16,
   "metadata": {},
   "outputs": [
    {
     "data": {
      "text/html": [
       "<div>\n",
       "<style scoped>\n",
       "    .dataframe tbody tr th:only-of-type {\n",
       "        vertical-align: middle;\n",
       "    }\n",
       "\n",
       "    .dataframe tbody tr th {\n",
       "        vertical-align: top;\n",
       "    }\n",
       "\n",
       "    .dataframe thead th {\n",
       "        text-align: right;\n",
       "    }\n",
       "</style>\n",
       "<table border=\"1\" class=\"dataframe\">\n",
       "  <thead>\n",
       "    <tr style=\"text-align: right;\">\n",
       "      <th></th>\n",
       "      <th>MSA_abbr</th>\n",
       "      <th>year</th>\n",
       "      <th>now_married_except_separated</th>\n",
       "      <th>less_than_high_school_diploma</th>\n",
       "      <th>unmarried_portion_of_women_15_to_50_years_who_had_a_birth_in_past_12_months</th>\n",
       "      <th>households_with_food_stamp_snap_benefits</th>\n",
       "      <th>percentage_married-couple_family</th>\n",
       "      <th>percentage_female_householder_no_husband_present_family</th>\n",
       "      <th>poverty_all_people</th>\n",
       "      <th>house_median_value_(dollars)</th>\n",
       "      <th>...</th>\n",
       "      <th>MSA_abbr_TAMPA_FL</th>\n",
       "      <th>MSA_abbr_TOLEDO_OH</th>\n",
       "      <th>MSA_abbr_TUCSON_AZ</th>\n",
       "      <th>MSA_abbr_TULSA_OK</th>\n",
       "      <th>MSA_abbr_VIRGINIA_BEACH_NC</th>\n",
       "      <th>MSA_abbr_WASHINGTON_DC</th>\n",
       "      <th>MSA_abbr_WICHITA_KS</th>\n",
       "      <th>MSA_abbr_WINSTON_NC</th>\n",
       "      <th>MSA_abbr_WORCESTER_MA</th>\n",
       "      <th>MSA_abbr_YOUNGSTOWN_OH</th>\n",
       "    </tr>\n",
       "  </thead>\n",
       "  <tbody>\n",
       "    <tr>\n",
       "      <th>0</th>\n",
       "      <td>ATLANTA_GA</td>\n",
       "      <td>2006</td>\n",
       "      <td>49.200000</td>\n",
       "      <td>13.466667</td>\n",
       "      <td>34.500000</td>\n",
       "      <td>6.233333</td>\n",
       "      <td>72.600000</td>\n",
       "      <td>20.533333</td>\n",
       "      <td>11.600000</td>\n",
       "      <td>193600.000000</td>\n",
       "      <td>...</td>\n",
       "      <td>0</td>\n",
       "      <td>0</td>\n",
       "      <td>0</td>\n",
       "      <td>0</td>\n",
       "      <td>0</td>\n",
       "      <td>0</td>\n",
       "      <td>0</td>\n",
       "      <td>0</td>\n",
       "      <td>0</td>\n",
       "      <td>0</td>\n",
       "    </tr>\n",
       "    <tr>\n",
       "      <th>1</th>\n",
       "      <td>AUSTIN_TX</td>\n",
       "      <td>2006</td>\n",
       "      <td>48.633333</td>\n",
       "      <td>13.833333</td>\n",
       "      <td>30.000000</td>\n",
       "      <td>5.866667</td>\n",
       "      <td>75.266667</td>\n",
       "      <td>17.166667</td>\n",
       "      <td>12.833333</td>\n",
       "      <td>176700.000000</td>\n",
       "      <td>...</td>\n",
       "      <td>0</td>\n",
       "      <td>0</td>\n",
       "      <td>0</td>\n",
       "      <td>0</td>\n",
       "      <td>0</td>\n",
       "      <td>0</td>\n",
       "      <td>0</td>\n",
       "      <td>0</td>\n",
       "      <td>0</td>\n",
       "      <td>0</td>\n",
       "    </tr>\n",
       "    <tr>\n",
       "      <th>2</th>\n",
       "      <td>BALTIMORE_MD</td>\n",
       "      <td>2006</td>\n",
       "      <td>46.866667</td>\n",
       "      <td>13.233333</td>\n",
       "      <td>34.066667</td>\n",
       "      <td>5.600000</td>\n",
       "      <td>71.566667</td>\n",
       "      <td>21.600000</td>\n",
       "      <td>9.166667</td>\n",
       "      <td>307900.000000</td>\n",
       "      <td>...</td>\n",
       "      <td>0</td>\n",
       "      <td>0</td>\n",
       "      <td>0</td>\n",
       "      <td>0</td>\n",
       "      <td>0</td>\n",
       "      <td>0</td>\n",
       "      <td>0</td>\n",
       "      <td>0</td>\n",
       "      <td>0</td>\n",
       "      <td>0</td>\n",
       "    </tr>\n",
       "    <tr>\n",
       "      <th>3</th>\n",
       "      <td>BIRMINGHAM_AL</td>\n",
       "      <td>2006</td>\n",
       "      <td>50.833333</td>\n",
       "      <td>15.633333</td>\n",
       "      <td>36.766667</td>\n",
       "      <td>7.700000</td>\n",
       "      <td>72.533333</td>\n",
       "      <td>21.700000</td>\n",
       "      <td>12.933333</td>\n",
       "      <td>139466.666667</td>\n",
       "      <td>...</td>\n",
       "      <td>0</td>\n",
       "      <td>0</td>\n",
       "      <td>0</td>\n",
       "      <td>0</td>\n",
       "      <td>0</td>\n",
       "      <td>0</td>\n",
       "      <td>0</td>\n",
       "      <td>0</td>\n",
       "      <td>0</td>\n",
       "      <td>0</td>\n",
       "    </tr>\n",
       "    <tr>\n",
       "      <th>4</th>\n",
       "      <td>BUFFALO_NY</td>\n",
       "      <td>2006</td>\n",
       "      <td>46.800000</td>\n",
       "      <td>12.100000</td>\n",
       "      <td>40.900000</td>\n",
       "      <td>10.366667</td>\n",
       "      <td>72.233333</td>\n",
       "      <td>21.200000</td>\n",
       "      <td>13.666667</td>\n",
       "      <td>109733.333333</td>\n",
       "      <td>...</td>\n",
       "      <td>0</td>\n",
       "      <td>0</td>\n",
       "      <td>0</td>\n",
       "      <td>0</td>\n",
       "      <td>0</td>\n",
       "      <td>0</td>\n",
       "      <td>0</td>\n",
       "      <td>0</td>\n",
       "      <td>0</td>\n",
       "      <td>0</td>\n",
       "    </tr>\n",
       "  </tbody>\n",
       "</table>\n",
       "<p>5 rows × 116 columns</p>\n",
       "</div>"
      ],
      "text/plain": [
       "        MSA_abbr  year  now_married_except_separated  \\\n",
       "0     ATLANTA_GA  2006                     49.200000   \n",
       "1      AUSTIN_TX  2006                     48.633333   \n",
       "2   BALTIMORE_MD  2006                     46.866667   \n",
       "3  BIRMINGHAM_AL  2006                     50.833333   \n",
       "4     BUFFALO_NY  2006                     46.800000   \n",
       "\n",
       "   less_than_high_school_diploma  \\\n",
       "0                      13.466667   \n",
       "1                      13.833333   \n",
       "2                      13.233333   \n",
       "3                      15.633333   \n",
       "4                      12.100000   \n",
       "\n",
       "   unmarried_portion_of_women_15_to_50_years_who_had_a_birth_in_past_12_months  \\\n",
       "0                                          34.500000                             \n",
       "1                                          30.000000                             \n",
       "2                                          34.066667                             \n",
       "3                                          36.766667                             \n",
       "4                                          40.900000                             \n",
       "\n",
       "   households_with_food_stamp_snap_benefits  percentage_married-couple_family  \\\n",
       "0                                  6.233333                         72.600000   \n",
       "1                                  5.866667                         75.266667   \n",
       "2                                  5.600000                         71.566667   \n",
       "3                                  7.700000                         72.533333   \n",
       "4                                 10.366667                         72.233333   \n",
       "\n",
       "   percentage_female_householder_no_husband_present_family  \\\n",
       "0                                          20.533333         \n",
       "1                                          17.166667         \n",
       "2                                          21.600000         \n",
       "3                                          21.700000         \n",
       "4                                          21.200000         \n",
       "\n",
       "   poverty_all_people  house_median_value_(dollars)           ...            \\\n",
       "0           11.600000                 193600.000000           ...             \n",
       "1           12.833333                 176700.000000           ...             \n",
       "2            9.166667                 307900.000000           ...             \n",
       "3           12.933333                 139466.666667           ...             \n",
       "4           13.666667                 109733.333333           ...             \n",
       "\n",
       "   MSA_abbr_TAMPA_FL  MSA_abbr_TOLEDO_OH  MSA_abbr_TUCSON_AZ  \\\n",
       "0                  0                   0                   0   \n",
       "1                  0                   0                   0   \n",
       "2                  0                   0                   0   \n",
       "3                  0                   0                   0   \n",
       "4                  0                   0                   0   \n",
       "\n",
       "   MSA_abbr_TULSA_OK  MSA_abbr_VIRGINIA_BEACH_NC  MSA_abbr_WASHINGTON_DC  \\\n",
       "0                  0                           0                       0   \n",
       "1                  0                           0                       0   \n",
       "2                  0                           0                       0   \n",
       "3                  0                           0                       0   \n",
       "4                  0                           0                       0   \n",
       "\n",
       "   MSA_abbr_WICHITA_KS  MSA_abbr_WINSTON_NC  MSA_abbr_WORCESTER_MA  \\\n",
       "0                    0                    0                      0   \n",
       "1                    0                    0                      0   \n",
       "2                    0                    0                      0   \n",
       "3                    0                    0                      0   \n",
       "4                    0                    0                      0   \n",
       "\n",
       "   MSA_abbr_YOUNGSTOWN_OH  \n",
       "0                       0  \n",
       "1                       0  \n",
       "2                       0  \n",
       "3                       0  \n",
       "4                       0  \n",
       "\n",
       "[5 rows x 116 columns]"
      ]
     },
     "execution_count": 16,
     "metadata": {},
     "output_type": "execute_result"
    }
   ],
   "source": [
    "df_train_s_ma.head()"
   ]
  },
  {
   "cell_type": "code",
   "execution_count": 17,
   "metadata": {},
   "outputs": [
    {
     "name": "stdout",
     "output_type": "stream",
     "text": [
      "Sizes match: True\n",
      "\n",
      "Len x_train: 490\n",
      "Len x_test: 426\n",
      "Len y_train: 490\n",
      "Len x_test: 426\n"
     ]
    }
   ],
   "source": [
    "# train test split / separate labels and features\n",
    "\n",
    "label_col = 'murder_per_100_k'\n",
    "\n",
    "split_yr = 2014\n",
    "\n",
    "x_train_s = df_train_s_ma.drop([label_col], axis=1).drop('MSA_abbr', axis=1)\n",
    "x_test_s = df_test.drop([label_col], axis=1).drop('MSA_abbr', axis=1)\n",
    "y_train = df_train_s_ma[label_col]\n",
    "y_test = df_test[label_col]\n",
    "\n",
    "print('Sizes match: {}'.format(len(x_train_s)==len(y_train)))\n",
    "print()\n",
    "print('Len x_train: {}'.format(len(x_train_s)))\n",
    "print('Len x_test: {}'.format(len(x_test_s)))\n",
    "print('Len y_train: {}'.format(len(y_train)))\n",
    "print('Len x_test: {}'.format(len(y_test)))"
   ]
  },
  {
   "cell_type": "code",
   "execution_count": 18,
   "metadata": {
    "collapsed": true
   },
   "outputs": [],
   "source": [
    "# standardize data\n",
    "\n",
    "from sklearn.preprocessing import StandardScaler\n",
    "standardizer = StandardScaler().fit(x_train_s)\n",
    "\n",
    "x_train = standardizer.transform(x_train_s)\n",
    "x_test = standardizer.transform(x_test_s)"
   ]
  },
  {
   "cell_type": "markdown",
   "metadata": {},
   "source": [
    "### Simple Linear Regression"
   ]
  },
  {
   "cell_type": "code",
   "execution_count": 19,
   "metadata": {
    "collapsed": true
   },
   "outputs": [],
   "source": [
    "from sklearn.linear_model import LinearRegression, RidgeCV, LassoCV, BayesianRidge, HuberRegressor\n",
    "from sklearn.model_selection import GridSearchCV"
   ]
  },
  {
   "cell_type": "code",
   "execution_count": 20,
   "metadata": {
    "collapsed": true
   },
   "outputs": [],
   "source": [
    "# instantiate and fit models\n",
    "\n",
    "def make_models(x_train, y_train):\n",
    "    md = dict()\n",
    "\n",
    "    md['linear'] = LinearRegression().fit(x_train, y_train)\n",
    "    md['ridge'] = RidgeCV(cv=15).fit(x_train, y_train)\n",
    "    md['lasso'] = LassoCV(cv=15).fit(x_train, y_train)\n",
    "    md['bayes'] = BayesianRidge(tol=0.0001).fit(x_train, y_train)\n",
    "    md['huber'] = GridSearchCV(HuberRegressor(),{'epsilon': [1.0,1.1,1.2,1.3,1.4,1.5,1.6,1.7]}).fit(x_train, y_train).best_estimator_\n",
    "    \n",
    "    return md"
   ]
  },
  {
   "cell_type": "code",
   "execution_count": 21,
   "metadata": {
    "collapsed": true
   },
   "outputs": [],
   "source": [
    "# score models\n",
    "\n",
    "def score_model(model):\n",
    "\n",
    "    train_score = model.score(x_train, y_train)\n",
    "    test_score = model.score(x_test, y_test)\n",
    "\n",
    "    return np.array([train_score, test_score])"
   ]
  },
  {
   "cell_type": "code",
   "execution_count": 22,
   "metadata": {
    "collapsed": true
   },
   "outputs": [],
   "source": [
    "def results_df(model):\n",
    "\n",
    "    # get train and test scores\n",
    "    scores_df = pd.DataFrame(score_model(model)).transpose()\n",
    "    scores_df.columns = ['Train R2','Test R2']\n",
    "\n",
    "    # get coefficient matrix\n",
    "    coeffs_df = pd.DataFrame(model.coef_).transpose()\n",
    "    coeffs_df.columns = x_train_s.columns\n",
    "\n",
    "    # join dataframes\n",
    "    return pd.concat([scores_df, coeffs_df], axis=1)"
   ]
  },
  {
   "cell_type": "code",
   "execution_count": 23,
   "metadata": {
    "collapsed": true
   },
   "outputs": [],
   "source": [
    "from sklearn.utils import resample"
   ]
  },
  {
   "cell_type": "code",
   "execution_count": 24,
   "metadata": {
    "collapsed": true
   },
   "outputs": [],
   "source": [
    "def run_experiment(n_iters):\n",
    "    \n",
    "    sample_results = dict()\n",
    "    \n",
    "    for n in range(n_iters):\n",
    "        # get new sample\n",
    "        xb, yb = resample(x_train, y_train)\n",
    "\n",
    "        # make and fit models\n",
    "        model_dict = make_models(xb, yb)\n",
    "\n",
    "        # get sample of results for each model\n",
    "        for key in model_dict:\n",
    "            \n",
    "            # initialize empty dictionary\n",
    "            if key not in sample_results:\n",
    "                sample_results[key] = []\n",
    "                        \n",
    "            # get model results\n",
    "            sample_results[key].append(results_df(model_dict[key]))\n",
    "            \n",
    "    # concatenate results dfs into single df\n",
    "    for key in sample_results:\n",
    "        sample_results[key] = pd.concat(sample_results[key])\n",
    "        \n",
    "    return sample_results"
   ]
  },
  {
   "cell_type": "code",
   "execution_count": 25,
   "metadata": {},
   "outputs": [
    {
     "name": "stderr",
     "output_type": "stream",
     "text": [
      "/Users/ilanjdor/anaconda/lib/python3.6/site-packages/sklearn/linear_model/coordinate_descent.py:484: ConvergenceWarning: Objective did not converge. You might want to increase the number of iterations. Fitting data with very small alpha may cause precision problems.\n",
      "  ConvergenceWarning)\n",
      "/Users/ilanjdor/anaconda/lib/python3.6/site-packages/sklearn/linear_model/coordinate_descent.py:484: ConvergenceWarning: Objective did not converge. You might want to increase the number of iterations. Fitting data with very small alpha may cause precision problems.\n",
      "  ConvergenceWarning)\n",
      "/Users/ilanjdor/anaconda/lib/python3.6/site-packages/sklearn/linear_model/coordinate_descent.py:484: ConvergenceWarning: Objective did not converge. You might want to increase the number of iterations. Fitting data with very small alpha may cause precision problems.\n",
      "  ConvergenceWarning)\n",
      "/Users/ilanjdor/anaconda/lib/python3.6/site-packages/sklearn/linear_model/coordinate_descent.py:484: ConvergenceWarning: Objective did not converge. You might want to increase the number of iterations. Fitting data with very small alpha may cause precision problems.\n",
      "  ConvergenceWarning)\n",
      "/Users/ilanjdor/anaconda/lib/python3.6/site-packages/sklearn/linear_model/coordinate_descent.py:484: ConvergenceWarning: Objective did not converge. You might want to increase the number of iterations. Fitting data with very small alpha may cause precision problems.\n",
      "  ConvergenceWarning)\n",
      "/Users/ilanjdor/anaconda/lib/python3.6/site-packages/sklearn/linear_model/coordinate_descent.py:484: ConvergenceWarning: Objective did not converge. You might want to increase the number of iterations. Fitting data with very small alpha may cause precision problems.\n",
      "  ConvergenceWarning)\n",
      "/Users/ilanjdor/anaconda/lib/python3.6/site-packages/sklearn/linear_model/coordinate_descent.py:484: ConvergenceWarning: Objective did not converge. You might want to increase the number of iterations. Fitting data with very small alpha may cause precision problems.\n",
      "  ConvergenceWarning)\n"
     ]
    }
   ],
   "source": [
    "exp = run_experiment(10)"
   ]
  },
  {
   "cell_type": "code",
   "execution_count": 26,
   "metadata": {
    "collapsed": true,
    "scrolled": false
   },
   "outputs": [],
   "source": [
    "coef_dict = dict()\n",
    "\n",
    "# iterate over all models\n",
    "for key in exp:\n",
    "    \n",
    "    # iterate over results of this model\n",
    "    for c in exp[key].columns:\n",
    "        \n",
    "        # initialize dict for result names\n",
    "        if c not in coef_dict:\n",
    "            coef_dict[c] = dict()\n",
    "    \n",
    "        # add this coeff to the dict\n",
    "        coef_dict[c][key] = exp[key][c]\n",
    "\n",
    "# convert dict of dicts into dict of dataframes\n",
    "coef_dfs = {key: pd.DataFrame(coef_dict[key]) for key in coef_dict}"
   ]
  },
  {
   "cell_type": "code",
   "execution_count": 27,
   "metadata": {},
   "outputs": [
    {
     "name": "stdout",
     "output_type": "stream",
     "text": [
      "linear\n",
      "\n",
      "Train R2   -8.181077e+24\n",
      "Test R2    -1.180159e+25\n",
      "dtype: float64\n",
      "\n",
      "ridge\n",
      "\n",
      "Train R2    0.969928\n",
      "Test R2     0.610709\n",
      "dtype: float64\n",
      "\n",
      "lasso\n",
      "\n",
      "Train R2    0.969375\n",
      "Test R2     0.584382\n",
      "dtype: float64\n",
      "\n",
      "bayes\n",
      "\n",
      "Train R2    0.970579\n",
      "Test R2     0.617515\n",
      "dtype: float64\n",
      "\n",
      "huber\n",
      "\n",
      "Train R2    0.910522\n",
      "Test R2     0.541203\n",
      "dtype: float64\n",
      "\n"
     ]
    }
   ],
   "source": [
    "for key in exp:\n",
    "    print(key)\n",
    "    print()\n",
    "    print(exp[key].mean()[:2])\n",
    "    print()"
   ]
  },
  {
   "cell_type": "code",
   "execution_count": 28,
   "metadata": {
    "collapsed": true,
    "scrolled": true
   },
   "outputs": [],
   "source": [
    "def print_runtime():\n",
    "    hours = int(str(end)[0:2])-int(str(start)[0:2])\n",
    "    minutes = int(str(end)[3:5])-int(str(start)[3:5])\n",
    "    seconds = int(str(end)[6:8])-int(str(start)[6:8])\n",
    "    if hours < 0:\n",
    "        hours = hours + 24\n",
    "    if minutes < 0:\n",
    "        minutes = minutes + 60\n",
    "        hours = hours - 1\n",
    "    if seconds < 0:\n",
    "        seconds = seconds + 60\n",
    "        minutes = minutes - 1\n",
    "    print(hours, \"hrs\", minutes, \"mins\", seconds, \"secs\")"
   ]
  },
  {
   "cell_type": "code",
   "execution_count": 29,
   "metadata": {
    "collapsed": true
   },
   "outputs": [],
   "source": [
    "end = datetime.datetime.time(datetime.datetime.now())"
   ]
  },
  {
   "cell_type": "code",
   "execution_count": 30,
   "metadata": {},
   "outputs": [
    {
     "name": "stdout",
     "output_type": "stream",
     "text": [
      "0 hrs 0 mins 47 secs\n"
     ]
    }
   ],
   "source": [
    "print_runtime()"
   ]
  }
 ],
 "metadata": {
  "kernelspec": {
   "display_name": "Python 3",
   "language": "python",
   "name": "python3"
  },
  "language_info": {
   "codemirror_mode": {
    "name": "ipython",
    "version": 3
   },
   "file_extension": ".py",
   "mimetype": "text/x-python",
   "name": "python",
   "nbconvert_exporter": "python",
   "pygments_lexer": "ipython3",
   "version": "3.6.1"
  }
 },
 "nbformat": 4,
 "nbformat_minor": 1
}
