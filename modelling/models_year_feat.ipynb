{
 "cells": [
  {
   "cell_type": "code",
   "execution_count": 1,
   "metadata": {
    "collapsed": true
   },
   "outputs": [],
   "source": [
    "import pandas as pd\n",
    "import numpy as np\n",
    "import matplotlib.pyplot as plt\n",
    "import datetime\n",
    "%matplotlib inline\n",
    "import seaborn as sns\n",
    "sns.set_context('poster')"
   ]
  },
  {
   "cell_type": "markdown",
   "metadata": {},
   "source": [
    "## Models With Years and Features"
   ]
  },
  {
   "cell_type": "markdown",
   "metadata": {},
   "source": [
    "### Import, Split, and Standardize Data"
   ]
  },
  {
   "cell_type": "code",
   "execution_count": 2,
   "metadata": {
    "collapsed": true
   },
   "outputs": [],
   "source": [
    "start = datetime.datetime.time(datetime.datetime.now())"
   ]
  },
  {
   "cell_type": "code",
   "execution_count": 3,
   "metadata": {
    "collapsed": true
   },
   "outputs": [],
   "source": [
    "df = pd.read_pickle('../data/merged/all_data_2006_to_2016.pkl')"
   ]
  },
  {
   "cell_type": "code",
   "execution_count": 4,
   "metadata": {},
   "outputs": [
    {
     "name": "stdout",
     "output_type": "stream",
     "text": [
      "<class 'pandas.core.frame.DataFrame'>\n",
      "RangeIndex: 928 entries, 0 to 927\n",
      "Data columns (total 13 columns):\n",
      "year                                                                           928 non-null int64\n",
      "MSA_orig                                                                       928 non-null object\n",
      "MSA                                                                            928 non-null object\n",
      "MSA_abbr                                                                       928 non-null object\n",
      "now_married_except_separated                                                   928 non-null float64\n",
      "less_than_high_school_diploma                                                  928 non-null float64\n",
      "unmarried_portion_of_women_15_to_50_years_who_had_a_birth_in_past_12_months    928 non-null float64\n",
      "households_with_food_stamp_snap_benefits                                       928 non-null float64\n",
      "percentage_married_couple_family                                               928 non-null float64\n",
      "percentage_female_householder_no_husband_present_family                        928 non-null float64\n",
      "poverty_all_people                                                             928 non-null float64\n",
      "house_median_value_(dollars)                                                   928 non-null int64\n",
      "murder_per_100_k                                                               928 non-null float64\n",
      "dtypes: float64(8), int64(2), object(3)\n",
      "memory usage: 94.3+ KB\n"
     ]
    }
   ],
   "source": [
    "df.info()"
   ]
  },
  {
   "cell_type": "code",
   "execution_count": 5,
   "metadata": {},
   "outputs": [],
   "source": [
    "# remove outliers with atypically high murder rates\n",
    "df = df[df.MSA_abbr != 'NEW_ORLEANS_LA']\n",
    "df = df[(df.MSA_abbr != 'MEMPHIS_TN') | (df.year != 2016)]\n",
    "df = df[(df.MSA_abbr != 'BATON_ROUGE_LA') | (df.year != 2007)]"
   ]
  },
  {
   "cell_type": "code",
   "execution_count": 6,
   "metadata": {
    "collapsed": true
   },
   "outputs": [],
   "source": [
    "# drop MSA\n",
    "df = df.drop(['MSA_orig', 'MSA', 'MSA_abbr'], axis=1)"
   ]
  },
  {
   "cell_type": "code",
   "execution_count": 7,
   "metadata": {},
   "outputs": [
    {
     "name": "stdout",
     "output_type": "stream",
     "text": [
      "Sizes match: True\n"
     ]
    }
   ],
   "source": [
    "# separate labels and features\n",
    "\n",
    "label_col = 'murder_per_100_k'\n",
    "\n",
    "x = df.drop([label_col], axis=1)\n",
    "y = df[label_col]\n",
    "\n",
    "print('Sizes match: {}'.format(len(x)==len(y)))"
   ]
  },
  {
   "cell_type": "code",
   "execution_count": 8,
   "metadata": {},
   "outputs": [
    {
     "name": "stdout",
     "output_type": "stream",
     "text": [
      "Len x_train: 641\n",
      "Len x_test: 275\n",
      "Len y_train: 641\n",
      "Len x_test: 275\n"
     ]
    }
   ],
   "source": [
    "# train test split\n",
    "\n",
    "from sklearn.model_selection import train_test_split\n",
    "\n",
    "x_train_s, x_test_s, y_train, y_test = train_test_split(x,y, test_size=0.3)\n",
    "\n",
    "print('Len x_train: {}'.format(len(x_train_s)))\n",
    "print('Len x_test: {}'.format(len(x_test_s)))\n",
    "print('Len y_train: {}'.format(len(y_train)))\n",
    "print('Len x_test: {}'.format(len(y_test)))"
   ]
  },
  {
   "cell_type": "code",
   "execution_count": 9,
   "metadata": {
    "collapsed": true
   },
   "outputs": [],
   "source": [
    "# standardize data\n",
    "\n",
    "from sklearn.preprocessing import StandardScaler\n",
    "standardizer = StandardScaler().fit(x_train_s)\n",
    "\n",
    "x_train = standardizer.transform(x_train_s)\n",
    "x_test = standardizer.transform(x_test_s)"
   ]
  },
  {
   "cell_type": "markdown",
   "metadata": {},
   "source": [
    "### Simple Linear Regression"
   ]
  },
  {
   "cell_type": "code",
   "execution_count": 10,
   "metadata": {
    "collapsed": true
   },
   "outputs": [],
   "source": [
    "from sklearn.linear_model import LinearRegression, RidgeCV, LassoCV, BayesianRidge, HuberRegressor\n",
    "from sklearn.model_selection import GridSearchCV"
   ]
  },
  {
   "cell_type": "code",
   "execution_count": 11,
   "metadata": {
    "collapsed": true
   },
   "outputs": [],
   "source": [
    "# instantiate and fit models\n",
    "\n",
    "def make_models(x_train, y_train):\n",
    "    md = dict()\n",
    "\n",
    "    md['linear'] = LinearRegression().fit(x_train, y_train)\n",
    "    md['ridge'] = RidgeCV(cv=15).fit(x_train, y_train)\n",
    "    md['lasso'] = LassoCV(cv=15).fit(x_train, y_train)\n",
    "    md['bayes'] = BayesianRidge(tol=0.0001).fit(x_train, y_train)\n",
    "    md['huber'] = GridSearchCV(HuberRegressor(),{'epsilon': [1.0,1.1,1.2,1.3,1.4,1.5,1.6,1.7]}).fit(x_train, y_train).best_estimator_\n",
    "    \n",
    "    return md"
   ]
  },
  {
   "cell_type": "code",
   "execution_count": 12,
   "metadata": {
    "collapsed": true
   },
   "outputs": [],
   "source": [
    "# score models\n",
    "\n",
    "def score_model(model):\n",
    "\n",
    "    train_score = model.score(x_train, y_train)\n",
    "    test_score = model.score(x_test, y_test)\n",
    "\n",
    "    return np.array([train_score, test_score])"
   ]
  },
  {
   "cell_type": "code",
   "execution_count": 13,
   "metadata": {
    "collapsed": true
   },
   "outputs": [],
   "source": [
    "def results_df(model):\n",
    "\n",
    "    # get train and test scores\n",
    "    scores_df = pd.DataFrame(score_model(model)).transpose()\n",
    "    scores_df.columns = ['Train R2','Test R2']\n",
    "\n",
    "    # get coefficient matrix\n",
    "    coeffs_df = pd.DataFrame(model.coef_).transpose()\n",
    "    coeffs_df.columns = x.columns\n",
    "\n",
    "    # join dataframes\n",
    "    return pd.concat([scores_df, coeffs_df], axis=1)"
   ]
  },
  {
   "cell_type": "code",
   "execution_count": 14,
   "metadata": {
    "collapsed": true
   },
   "outputs": [],
   "source": [
    "from sklearn.utils import resample"
   ]
  },
  {
   "cell_type": "code",
   "execution_count": 15,
   "metadata": {
    "collapsed": true
   },
   "outputs": [],
   "source": [
    "def run_experiment(n_iters):\n",
    "    \n",
    "    sample_results = dict()\n",
    "    \n",
    "    for n in range(n_iters):\n",
    "        # get new sample\n",
    "        xb, yb = resample(x_train, y_train)\n",
    "\n",
    "        # make and fit models\n",
    "        model_dict = make_models(xb, yb)\n",
    "\n",
    "        # get sample of results for each model\n",
    "        for key in model_dict:\n",
    "            \n",
    "            # initialize empty dictionary\n",
    "            if key not in sample_results:\n",
    "                sample_results[key] = []\n",
    "                        \n",
    "            # get model results\n",
    "            sample_results[key].append(results_df(model_dict[key]))\n",
    "            \n",
    "    # concatenate results dfs into single df\n",
    "    for key in sample_results:\n",
    "        sample_results[key] = pd.concat(sample_results[key])\n",
    "        \n",
    "    return sample_results"
   ]
  },
  {
   "cell_type": "code",
   "execution_count": 16,
   "metadata": {
    "collapsed": true
   },
   "outputs": [],
   "source": [
    "exp = run_experiment(200)"
   ]
  },
  {
   "cell_type": "code",
   "execution_count": 17,
   "metadata": {
    "collapsed": true,
    "scrolled": false
   },
   "outputs": [],
   "source": [
    "coef_dict = dict()\n",
    "\n",
    "# iterate over all models\n",
    "for key in exp:\n",
    "    \n",
    "    # iterate over results of this model\n",
    "    for c in exp[key].columns:\n",
    "        \n",
    "        # initialize dict for result names\n",
    "        if c not in coef_dict:\n",
    "            coef_dict[c] = dict()\n",
    "    \n",
    "        # add this coeff to the dict\n",
    "        coef_dict[c][key] = exp[key][c]\n",
    "\n",
    "# convert dict of dicts into dict of dataframes\n",
    "coef_dfs = {key: pd.DataFrame(coef_dict[key]) for key in coef_dict}"
   ]
  },
  {
   "cell_type": "code",
   "execution_count": 18,
   "metadata": {},
   "outputs": [
    {
     "name": "stdout",
     "output_type": "stream",
     "text": [
      "linear\n",
      "\n",
      "Train R2                                                                       0.466151\n",
      "Test R2                                                                        0.470054\n",
      "year                                                                           0.245734\n",
      "now_married_except_separated                                                   0.864041\n",
      "less_than_high_school_diploma                                                 -0.332109\n",
      "unmarried_portion_of_women_15_to_50_years_who_had_a_birth_in_past_12_months    0.353295\n",
      "households_with_food_stamp_snap_benefits                                      -1.547043\n",
      "percentage_married_couple_family                                              -1.424208\n",
      "percentage_female_householder_no_husband_present_family                        1.177475\n",
      "poverty_all_people                                                             0.512935\n",
      "house_median_value_(dollars)                                                  -0.408592\n",
      "dtype: float64\n",
      "\n",
      "ridge\n",
      "\n",
      "Train R2                                                                       0.465811\n",
      "Test R2                                                                        0.469312\n",
      "year                                                                           0.207579\n",
      "now_married_except_separated                                                   0.773877\n",
      "less_than_high_school_diploma                                                 -0.274769\n",
      "unmarried_portion_of_women_15_to_50_years_who_had_a_birth_in_past_12_months    0.354743\n",
      "households_with_food_stamp_snap_benefits                                      -1.441943\n",
      "percentage_married_couple_family                                              -1.338650\n",
      "percentage_female_householder_no_husband_present_family                        1.141088\n",
      "poverty_all_people                                                             0.432915\n",
      "house_median_value_(dollars)                                                  -0.408903\n",
      "dtype: float64\n",
      "\n",
      "lasso\n",
      "\n",
      "Train R2                                                                       0.465901\n",
      "Test R2                                                                        0.470038\n",
      "year                                                                           0.232937\n",
      "now_married_except_separated                                                   0.835417\n",
      "less_than_high_school_diploma                                                 -0.311020\n",
      "unmarried_portion_of_women_15_to_50_years_who_had_a_birth_in_past_12_months    0.349398\n",
      "households_with_food_stamp_snap_benefits                                      -1.514911\n",
      "percentage_married_couple_family                                              -1.406388\n",
      "percentage_female_householder_no_husband_present_family                        1.162682\n",
      "poverty_all_people                                                             0.482701\n",
      "house_median_value_(dollars)                                                  -0.410717\n",
      "dtype: float64\n",
      "\n",
      "bayes\n",
      "\n",
      "Train R2                                                                       0.466374\n",
      "Test R2                                                                        0.470009\n",
      "year                                                                           0.218000\n",
      "now_married_except_separated                                                   0.795719\n",
      "less_than_high_school_diploma                                                 -0.286565\n",
      "unmarried_portion_of_women_15_to_50_years_who_had_a_birth_in_past_12_months    0.354227\n",
      "households_with_food_stamp_snap_benefits                                      -1.468865\n",
      "percentage_married_couple_family                                              -1.355265\n",
      "percentage_female_householder_no_husband_present_family                        1.154986\n",
      "poverty_all_people                                                             0.450651\n",
      "house_median_value_(dollars)                                                  -0.409852\n",
      "dtype: float64\n",
      "\n",
      "huber\n",
      "\n",
      "Train R2                                                                       0.464511\n",
      "Test R2                                                                        0.458847\n",
      "year                                                                           0.228728\n",
      "now_married_except_separated                                                   0.898922\n",
      "less_than_high_school_diploma                                                 -0.327242\n",
      "unmarried_portion_of_women_15_to_50_years_who_had_a_birth_in_past_12_months    0.362768\n",
      "households_with_food_stamp_snap_benefits                                      -1.551771\n",
      "percentage_married_couple_family                                              -1.374961\n",
      "percentage_female_householder_no_husband_present_family                        1.187900\n",
      "poverty_all_people                                                             0.622550\n",
      "house_median_value_(dollars)                                                  -0.412349\n",
      "dtype: float64\n",
      "\n"
     ]
    }
   ],
   "source": [
    "for key in exp:\n",
    "    print(key)\n",
    "    print()\n",
    "    print(exp[key].mean())\n",
    "    print()"
   ]
  },
  {
   "cell_type": "code",
   "execution_count": 19,
   "metadata": {
    "collapsed": true,
    "scrolled": true
   },
   "outputs": [],
   "source": [
    "def print_runtime():\n",
    "    hours = int(str(end)[0:2])-int(str(start)[0:2])\n",
    "    minutes = int(str(end)[3:5])-int(str(start)[3:5])\n",
    "    seconds = int(str(end)[6:8])-int(str(start)[6:8])\n",
    "    if hours < 0:\n",
    "        hours = hours + 24\n",
    "    if minutes < 0:\n",
    "        minutes = minutes + 60\n",
    "        hours = hours - 1\n",
    "    if seconds < 0:\n",
    "        seconds = seconds + 60\n",
    "        minutes = minutes - 1\n",
    "    print(hours, \"hrs\", minutes, \"mins\", seconds, \"secs\")"
   ]
  },
  {
   "cell_type": "code",
   "execution_count": 20,
   "metadata": {
    "collapsed": true
   },
   "outputs": [],
   "source": [
    "end = datetime.datetime.time(datetime.datetime.now())"
   ]
  },
  {
   "cell_type": "code",
   "execution_count": 21,
   "metadata": {},
   "outputs": [
    {
     "name": "stdout",
     "output_type": "stream",
     "text": [
      "0 hrs 2 mins 30 secs\n"
     ]
    }
   ],
   "source": [
    "print_runtime()"
   ]
  }
 ],
 "metadata": {
  "kernelspec": {
   "display_name": "Python 3",
   "language": "python",
   "name": "python3"
  },
  "language_info": {
   "codemirror_mode": {
    "name": "ipython",
    "version": 3
   },
   "file_extension": ".py",
   "mimetype": "text/x-python",
   "name": "python",
   "nbconvert_exporter": "python",
   "pygments_lexer": "ipython3",
   "version": "3.6.1"
  }
 },
 "nbformat": 4,
 "nbformat_minor": 1
}
