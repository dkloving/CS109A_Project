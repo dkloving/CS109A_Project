{
 "cells": [
  {
   "cell_type": "code",
   "execution_count": 1,
   "metadata": {},
   "outputs": [],
   "source": [
    "import pandas as pd\n",
    "import numpy as np\n",
    "import matplotlib.pyplot as plt\n",
    "%matplotlib inline\n",
    "import seaborn as sns\n",
    "sns.set_context('poster')"
   ]
  },
  {
   "cell_type": "code",
   "execution_count": 2,
   "metadata": {
    "collapsed": true
   },
   "outputs": [],
   "source": [
    "from project_helper import *"
   ]
  },
  {
   "cell_type": "markdown",
   "metadata": {},
   "source": [
    "## Models Without MSA Encoding"
   ]
  },
  {
   "cell_type": "markdown",
   "metadata": {},
   "source": [
    "### Import, Split, and Standardize Data"
   ]
  },
  {
   "cell_type": "code",
   "execution_count": 3,
   "metadata": {
    "collapsed": true
   },
   "outputs": [],
   "source": [
    "df = pd.DataFrame.from_csv('../data/merged/all_data_2006_to_2016.csv', index_col=None)"
   ]
  },
  {
   "cell_type": "code",
   "execution_count": 4,
   "metadata": {},
   "outputs": [
    {
     "name": "stdout",
     "output_type": "stream",
     "text": [
      "<class 'pandas.core.frame.DataFrame'>\n",
      "RangeIndex: 928 entries, 0 to 927\n",
      "Data columns (total 13 columns):\n",
      "year                                                                           928 non-null int64\n",
      "MSA_orig                                                                       928 non-null object\n",
      "MSA                                                                            928 non-null object\n",
      "MSA_abbr                                                                       928 non-null object\n",
      "now_married_except_separated                                                   928 non-null float64\n",
      "less_than_high_school_diploma                                                  928 non-null float64\n",
      "unmarried_portion_of_women_15_to_50_years_who_had_a_birth_in_past_12_months    928 non-null float64\n",
      "households_with_food_stamp_snap_benefits                                       928 non-null float64\n",
      "percentage_married_couple_family                                               928 non-null float64\n",
      "percentage_female_householder_no_husband_present_family                        928 non-null float64\n",
      "poverty_all_people                                                             928 non-null float64\n",
      "house_median_value_(dollars)                                                   928 non-null int64\n",
      "murder_per_100_k                                                               928 non-null float64\n",
      "dtypes: float64(8), int64(2), object(3)\n",
      "memory usage: 94.3+ KB\n"
     ]
    }
   ],
   "source": [
    "df.info()"
   ]
  },
  {
   "cell_type": "code",
   "execution_count": 5,
   "metadata": {
    "collapsed": true
   },
   "outputs": [],
   "source": [
    "# drop MSA names\n",
    "df = df.drop(['MSA','MSA_orig','MSA_abbr'], axis=1)"
   ]
  },
  {
   "cell_type": "code",
   "execution_count": 6,
   "metadata": {},
   "outputs": [
    {
     "name": "stdout",
     "output_type": "stream",
     "text": [
      "Sizes match: True\n"
     ]
    }
   ],
   "source": [
    "# separate labels and features\n",
    "\n",
    "label_col = 'murder_per_100_k'\n",
    "\n",
    "x = df.drop([label_col], axis=1)\n",
    "y = df[label_col]\n",
    "\n",
    "print('Sizes match: {}'.format(len(x)==len(y)))"
   ]
  },
  {
   "cell_type": "code",
   "execution_count": 7,
   "metadata": {},
   "outputs": [
    {
     "name": "stdout",
     "output_type": "stream",
     "text": [
      "Len x_train: 649\n",
      "Len x_test: 279\n",
      "Len y_train: 649\n",
      "Len x_test: 279\n"
     ]
    }
   ],
   "source": [
    "# train test split\n",
    "\n",
    "from sklearn.model_selection import train_test_split\n",
    "\n",
    "x_train_s, x_test_s, y_train, y_test = train_test_split(x,y, test_size=0.3)\n",
    "\n",
    "print('Len x_train: {}'.format(len(x_train_s)))\n",
    "print('Len x_test: {}'.format(len(x_test_s)))\n",
    "print('Len y_train: {}'.format(len(y_train)))\n",
    "print('Len x_test: {}'.format(len(y_test)))"
   ]
  },
  {
   "cell_type": "code",
   "execution_count": 8,
   "metadata": {
    "collapsed": true
   },
   "outputs": [],
   "source": [
    "# standardize data\n",
    "\n",
    "from sklearn.preprocessing import StandardScaler\n",
    "standardizer = StandardScaler().fit(x_train_s)\n",
    "\n",
    "x_train = standardizer.transform(x_train_s)\n",
    "x_test = standardizer.transform(x_test_s)"
   ]
  },
  {
   "cell_type": "markdown",
   "metadata": {},
   "source": [
    "### Simple Linear Regression"
   ]
  },
  {
   "cell_type": "code",
   "execution_count": 9,
   "metadata": {
    "collapsed": true
   },
   "outputs": [],
   "source": [
    "from sklearn.linear_model import LinearRegression, RidgeCV, LassoCV, BayesianRidge, HuberRegressor\n",
    "from sklearn.model_selection import GridSearchCV\n",
    "from sklearn.neural_network import MLPRegressor"
   ]
  },
  {
   "cell_type": "code",
   "execution_count": 10,
   "metadata": {
    "collapsed": true
   },
   "outputs": [],
   "source": [
    "# instantiate and fit models\n",
    "def linear_models(x_train, y_train):\n",
    "    md = dict()\n",
    "\n",
    "    md['linear'] = LinearRegression().fit(x_train, y_train)\n",
    "    md['ridge'] = RidgeCV(cv=15).fit(x_train, y_train)\n",
    "    md['lasso'] = LassoCV(cv=15).fit(x_train, y_train)\n",
    "    md['huber'] = GridSearchCV(HuberRegressor(),{'epsilon': [1.0,1.1,1.2,1.3,1.4,1.5,1.6,1.7]}).fit(x_train, y_train).best_estimator_\n",
    "    \n",
    "    return md"
   ]
  },
  {
   "cell_type": "code",
   "execution_count": 11,
   "metadata": {
    "scrolled": true
   },
   "outputs": [
    {
     "name": "stderr",
     "output_type": "stream",
     "text": [
      "/Users/davidloving/anaconda3/envs/tf-gpu/lib/python3.6/site-packages/scipy/linalg/basic.py:1226: RuntimeWarning: internal gelsd driver lwork query error, required iwork dimension not returned. This is likely the result of LAPACK bug 0038, fixed in LAPACK 3.2.2 (released July 21, 2010). Falling back to 'gelss' driver.\n",
      "  warnings.warn(mesg, RuntimeWarning)\n"
     ]
    }
   ],
   "source": [
    "coeff_names = df.drop('murder_per_100_k',axis=1).columns\n",
    "\n",
    "exp = run_experiment(linear_models, 10, x_train, y_train, x_test, y_test, coeff_names)"
   ]
  },
  {
   "cell_type": "markdown",
   "metadata": {},
   "source": [
    "### MSA-encoded Models Data Prep"
   ]
  },
  {
   "cell_type": "code",
   "execution_count": 12,
   "metadata": {
    "collapsed": true
   },
   "outputs": [],
   "source": [
    "df_2 = pd.DataFrame.from_csv('../data/merged/all_data_2006_to_2016.csv', index_col=None)"
   ]
  },
  {
   "cell_type": "code",
   "execution_count": 13,
   "metadata": {
    "collapsed": true
   },
   "outputs": [],
   "source": [
    "# OHE MSA names\n",
    "df_2_dummies = pd.get_dummies(df_2['MSA_abbr'])"
   ]
  },
  {
   "cell_type": "code",
   "execution_count": 14,
   "metadata": {
    "collapsed": true
   },
   "outputs": [],
   "source": [
    "# drop MSA names\n",
    "df_2 = df_2.drop(['MSA','MSA_orig','MSA_abbr'], axis=1)"
   ]
  },
  {
   "cell_type": "code",
   "execution_count": 15,
   "metadata": {
    "collapsed": true
   },
   "outputs": [],
   "source": [
    "# combine dataframes, preserving list of columns that need normalization\n",
    "cols_to_norm = df_2.columns[:-1]\n",
    "df_2 = pd.concat([df_2, df_2_dummies], axis=1)"
   ]
  },
  {
   "cell_type": "code",
   "execution_count": 16,
   "metadata": {},
   "outputs": [
    {
     "name": "stdout",
     "output_type": "stream",
     "text": [
      "Sizes match: True\n"
     ]
    }
   ],
   "source": [
    "# separate labels and features\n",
    "\n",
    "label_col = 'murder_per_100_k'\n",
    "\n",
    "x_2 = df_2.drop([label_col], axis=1)\n",
    "y_2 = df_2[label_col]\n",
    "\n",
    "print('Sizes match: {}'.format(len(x)==len(y)))"
   ]
  },
  {
   "cell_type": "code",
   "execution_count": 17,
   "metadata": {},
   "outputs": [
    {
     "name": "stdout",
     "output_type": "stream",
     "text": [
      "Len x_train: 649\n",
      "Len x_test: 279\n",
      "Len y_train: 649\n",
      "Len x_test: 279\n"
     ]
    }
   ],
   "source": [
    "# train test split\n",
    "\n",
    "from sklearn.model_selection import train_test_split\n",
    "\n",
    "x_train_s_2, x_test_s_2, y_train_2, y_test_2 = train_test_split(x_2,y_2, test_size=0.3)\n",
    "\n",
    "print('Len x_train: {}'.format(len(x_train_s)))\n",
    "print('Len x_test: {}'.format(len(x_test_s)))\n",
    "print('Len y_train: {}'.format(len(y_train)))\n",
    "print('Len x_test: {}'.format(len(y_test)))"
   ]
  },
  {
   "cell_type": "code",
   "execution_count": 18,
   "metadata": {},
   "outputs": [
    {
     "name": "stderr",
     "output_type": "stream",
     "text": [
      "/Users/davidloving/anaconda3/envs/tf-gpu/lib/python3.6/site-packages/ipykernel/__main__.py:11: SettingWithCopyWarning: \n",
      "A value is trying to be set on a copy of a slice from a DataFrame.\n",
      "Try using .loc[row_indexer,col_indexer] = value instead\n",
      "\n",
      "See the caveats in the documentation: http://pandas.pydata.org/pandas-docs/stable/indexing.html#indexing-view-versus-copy\n",
      "/Users/davidloving/anaconda3/envs/tf-gpu/lib/python3.6/site-packages/ipykernel/__main__.py:12: SettingWithCopyWarning: \n",
      "A value is trying to be set on a copy of a slice from a DataFrame.\n",
      "Try using .loc[row_indexer,col_indexer] = value instead\n",
      "\n",
      "See the caveats in the documentation: http://pandas.pydata.org/pandas-docs/stable/indexing.html#indexing-view-versus-copy\n"
     ]
    }
   ],
   "source": [
    "# standardize data\n",
    "means = np.mean(x_train_s_2, axis=0)\n",
    "stds = np.std(x_train_s_2, axis=0)\n",
    "\n",
    "# initialize training containers\n",
    "x_train_2 = x_train_s_2\n",
    "x_test_2 = x_test_s_2\n",
    "\n",
    "# standardize relevant data, will throw a warning\n",
    "for i,c in enumerate(cols_to_norm):\n",
    "    x_train_2[c] = (x_train_s_2[c]-means[i])/stds[i]\n",
    "    x_test_2[c] = (x_test_s_2[c]-means[i])/stds[i]"
   ]
  },
  {
   "cell_type": "markdown",
   "metadata": {},
   "source": [
    "### Running MSA-Encoded Models"
   ]
  },
  {
   "cell_type": "code",
   "execution_count": 19,
   "metadata": {},
   "outputs": [],
   "source": [
    "coeff_2_names = df_2.drop('murder_per_100_k',axis=1).columns\n",
    "\n",
    "exp_2 = run_experiment(linear_models, 10, x_train_2, y_train_2, x_test_2, y_test_2, coeff_2_names)"
   ]
  },
  {
   "cell_type": "code",
   "execution_count": 20,
   "metadata": {},
   "outputs": [
    {
     "data": {
      "image/png": "[encoded data removed]",
      "text/plain": [
       "<matplotlib.figure.Figure at 0x10b60b588>"
      ]
     },
     "metadata": {},
     "output_type": "display_data"
    },
    {
     "data": {
      "image/png": "[encoded data removed]",
      "text/plain": [
       "<matplotlib.figure.Figure at 0x11675c2e8>"
      ]
     },
     "metadata": {},
     "output_type": "display_data"
    }
   ],
   "source": [
    "violin_coefs([exp, exp_2], ['Train R2','Test R2'], experiment_name=['No MSA','With MSA'], center_zero=False)"
   ]
  },
  {
   "cell_type": "code",
   "execution_count": 21,
   "metadata": {
    "scrolled": false
   },
   "outputs": [],
   "source": [
    "violin_coefs([exp, exp_2], coeff_names, experiment_name=['No MSA','With MSA'])"
   ]
  },
  {
   "cell_type": "code",
   "execution_count": null,
   "metadata": {
    "collapsed": true
   },
   "outputs": [],
   "source": []
  }
 ],
 "metadata": {
  "kernelspec": {
   "display_name": "Python [conda env:tf-gpu]",
   "language": "python",
   "name": "conda-env-tf-gpu-py"
  },
  "language_info": {
   "codemirror_mode": {
    "name": "ipython",
    "version": 3
   },
   "file_extension": ".py",
   "mimetype": "text/x-python",
   "name": "python",
   "nbconvert_exporter": "python",
   "pygments_lexer": "ipython3",
   "version": "3.6.0"
  }
 },
 "nbformat": 4,
 "nbformat_minor": 1
}
